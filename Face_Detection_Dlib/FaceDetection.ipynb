{
 "cells": [
  {
   "cell_type": "code",
   "execution_count": 1,
   "metadata": {},
   "outputs": [
    {
     "name": "stdout",
     "output_type": "stream",
     "text": [
      "Collecting dlib\n",
      "\u001b[?25l  Downloading https://files.pythonhosted.org/packages/1e/62/aacb236d21fbd08148b1d517d58a9d80ea31bdcd386d26f21f8b23b1eb28/dlib-19.18.0.tar.gz (3.1MB)\n",
      "\u001b[K     |████████████████████████████████| 3.1MB 10.8MB/s eta 0:00:01\n",
      "\u001b[?25hBuilding wheels for collected packages: dlib\n",
      "  Building wheel for dlib (setup.py) ... \u001b[?25ldone\n",
      "\u001b[?25h  Stored in directory: /root/.cache/pip/wheels/ab/e9/6b/5206171e6a24d8cb6653936ccfd656b7d6f6c631c1b5f93970\n",
      "Successfully built dlib\n",
      "Installing collected packages: dlib\n",
      "Successfully installed dlib-19.18.0\n",
      "\u001b[33mWARNING: You are using pip version 19.1.1, however version 19.3.1 is available.\n",
      "You should consider upgrading via the 'pip install --upgrade pip' command.\u001b[0m\n"
     ]
    }
   ],
   "source": [
    "!pip install dlib"
   ]
  },
  {
   "cell_type": "code",
   "execution_count": null,
   "metadata": {},
   "outputs": [],
   "source": [
    "# %matplotlib inline\n",
    "# from matplotlib import pyplot as plt1\n",
    "# from matplotlib import pyplot as plt2"
   ]
  },
  {
   "cell_type": "code",
   "execution_count": null,
   "metadata": {},
   "outputs": [],
   "source": [
    "# import required packages\n",
    "import cv2\n",
    "import dlib\n",
    "import os \n",
    "#name=os.listdir(\"Faces/Aamir/frame0.jpg\")\n",
    "name='Faces/Aamir/frame30.jpg'\n"
   ]
  },
  {
   "cell_type": "code",
   "execution_count": null,
   "metadata": {},
   "outputs": [],
   "source": [
    "k=0\n",
    "for t in range(1):\n",
    "    \n",
    "    image=cv2.imread(\"Faces/Aamir/\"+name)\n",
    "    if image is None:\n",
    "        print(\"Could not read input image\")\n",
    "        break\n",
    "\n",
    "    p = \"mmod_human_face_detector.dat\"\n",
    "    cnn_face_detector = dlib.cnn_face_detection_model_v1(p)\n",
    "    faces_cnn = cnn_face_detector(image, 1)\n",
    "\n",
    "# loop over detected faces\n",
    "    for face in faces_cnn:\n",
    "        x = face.rect.left()\n",
    "        y = face.rect.top()\n",
    "        w = face.rect.right() - x\n",
    "        h = face.rect.bottom() - y\n",
    "\n",
    "         # draw box over face\n",
    "        cv2.rectangle(image, (x-15,y-50), (x+w+50,y+h+30), (0,255,0), 2)\n",
    "    \n",
    "    # write at the top left corner of the image\n",
    "    # for color identification\n",
    "    img_height, img_width = image.shape[:2]\n",
    "    cropped=image[x-15:x+w+50,y-50:y+h+30]\n",
    "    cv2.imwrite('cropped/faces/Aamir/'+str(k)+'.jpg', cropped)\n",
    "    plt1.imshow(cv2.cvtColor(cropped, cv2.COLOR_BGR2RGB))\n",
    "\n",
    "    k+=1\n",
    "    print(k)\n",
    "    if(k==5000):\n",
    "        break\n",
    "    #cv2.waitKey()\n",
    "\n",
    "    # save output image \n",
    "    #cv2.imwrite(\"cnn_face_detection.png\", image)\n",
    "\n",
    "    # close all windows\n",
    "    #cv2.destroyAllWindows()"
   ]
  },
  {
   "cell_type": "code",
   "execution_count": null,
   "metadata": {},
   "outputs": [],
   "source": []
  },
  {
   "cell_type": "code",
   "execution_count": null,
   "metadata": {},
   "outputs": [],
   "source": []
  }
 ],
 "metadata": {
  "kernelspec": {
   "display_name": "Python 3",
   "language": "python",
   "name": "python3"
  },
  "language_info": {
   "codemirror_mode": {
    "name": "ipython",
    "version": 3
   },
   "file_extension": ".py",
   "mimetype": "text/x-python",
   "name": "python",
   "nbconvert_exporter": "python",
   "pygments_lexer": "ipython3",
   "version": "3.5.2"
  }
 },
 "nbformat": 4,
 "nbformat_minor": 2
}
