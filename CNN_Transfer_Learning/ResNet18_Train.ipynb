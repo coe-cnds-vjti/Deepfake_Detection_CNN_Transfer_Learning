{
 "cells": [
  {
   "cell_type": "code",
   "execution_count": 1,
   "metadata": {
    "colab": {},
    "colab_type": "code",
    "id": "hmH50ibX9KQ7"
   },
   "outputs": [
    {
     "name": "stdout",
     "output_type": "stream",
     "text": [
      "Requirement already satisfied: keras in /usr/local/lib/python3.5/dist-packages (2.3.1)\n",
      "Requirement already satisfied: keras-applications>=1.0.6 in /usr/local/lib/python3.5/dist-packages (from keras) (1.0.6)\n",
      "Requirement already satisfied: scipy>=0.14 in /usr/local/lib/python3.5/dist-packages (from keras) (1.3.0)\n",
      "Requirement already satisfied: numpy>=1.9.1 in /usr/local/lib/python3.5/dist-packages (from keras) (1.14.5)\n",
      "Requirement already satisfied: six>=1.9.0 in /usr/local/lib/python3.5/dist-packages (from keras) (1.12.0)\n",
      "Requirement already satisfied: pyyaml in /usr/local/lib/python3.5/dist-packages (from keras) (5.3)\n",
      "Requirement already satisfied: keras-preprocessing>=1.0.5 in /usr/local/lib/python3.5/dist-packages (from keras) (1.0.5)\n",
      "Requirement already satisfied: h5py in /usr/local/lib/python3.5/dist-packages (from keras) (2.9.0)\n",
      "\u001b[33mWARNING: You are using pip version 19.1.1, however version 20.0.2 is available.\n",
      "You should consider upgrading via the 'pip install --upgrade pip' command.\u001b[0m\n"
     ]
    }
   ],
   "source": [
    "!pip install keras "
   ]
  },
  {
   "cell_type": "code",
   "execution_count": 2,
   "metadata": {},
   "outputs": [
    {
     "name": "stderr",
     "output_type": "stream",
     "text": [
      "Using TensorFlow backend.\n"
     ]
    }
   ],
   "source": [
    "from keras.backend.tensorflow_backend import set_session\n",
    "import tensorflow as tf\n",
    "config = tf.ConfigProto()\n",
    "config.gpu_options.allow_growth = True  # dynamically grow the memory used on the GPU\n",
    "config.log_device_placement = True  # to log device placement (on which device the operation ran)sess = tf.Session(config=config)set_session(sess)\n",
    "sess = tf.Session(config=config)\n",
    "set_session(sess) "
   ]
  },
  {
   "cell_type": "code",
   "execution_count": 3,
   "metadata": {
    "colab": {
     "base_uri": "https://localhost:8080/",
     "height": 35
    },
    "colab_type": "code",
    "executionInfo": {
     "elapsed": 5056,
     "status": "ok",
     "timestamp": 1561919672504,
     "user": {
      "displayName": "new guy",
      "photoUrl": "",
      "userId": "03120160726989926836"
     },
     "user_tz": -330
    },
    "id": "tk28xpFxnAqa",
    "outputId": "526d266c-5750-42ff-af3b-67bb20b4596c"
   },
   "outputs": [],
   "source": [
    "import pandas as pd\n",
    "import numpy as np\n",
    "from keras.models import Sequential\n",
    "from keras.layers import Dense, Conv2D, Dropout, Flatten, MaxPooling2D\n",
    "from keras.optimizers import Adam as Adam\n",
    "from keras.optimizers import SGD\n",
    "from tensorflow.keras.models import load_model"
   ]
  },
  {
   "cell_type": "code",
   "execution_count": 4,
   "metadata": {},
   "outputs": [],
   "source": [
    "import keras\n",
    "from classification_models.keras import Classifiers\n",
    "\n",
    "ResNet18, preprocess_input = Classifiers.get('resnet18')\n",
    "n_classes=1\n"
   ]
  },
  {
   "cell_type": "code",
   "execution_count": 5,
   "metadata": {
    "colab": {
     "base_uri": "https://localhost:8080/",
     "height": 547
    },
    "colab_type": "code",
    "executionInfo": {
     "elapsed": 7681,
     "status": "error",
     "timestamp": 1561919675705,
     "user": {
      "displayName": "new guy",
      "photoUrl": "",
      "userId": "03120160726989926836"
     },
     "user_tz": -330
    },
    "id": "2oj9WnXOlt_C",
    "outputId": "36f3e405-6019-4ddb-a106-d898a5284ec3"
   },
   "outputs": [
    {
     "name": "stdout",
     "output_type": "stream",
     "text": [
      "WARNING:tensorflow:From /usr/local/lib/python3.5/dist-packages/tensorflow/python/ops/resource_variable_ops.py:435: colocate_with (from tensorflow.python.framework.ops) is deprecated and will be removed in a future version.\n",
      "Instructions for updating:\n",
      "Colocations handled automatically by placer.\n",
      "222\n"
     ]
    }
   ],
   "source": [
    "\n",
    "base_model = ResNet18(input_shape=(224,224,3), weights='resnet18_imagenet_1000_no_top.h5', include_top=False)\n"
   ]
  },
  {
   "cell_type": "code",
   "execution_count": 6,
   "metadata": {},
   "outputs": [
    {
     "name": "stdout",
     "output_type": "stream",
     "text": [
      "Model: \"model_1\"\n",
      "__________________________________________________________________________________________________\n",
      "Layer (type)                    Output Shape         Param #     Connected to                     \n",
      "==================================================================================================\n",
      "data (InputLayer)               (None, 224, 224, 3)  0                                            \n",
      "__________________________________________________________________________________________________\n",
      "bn_data (BatchNormalization)    (None, 224, 224, 3)  9           data[0][0]                       \n",
      "__________________________________________________________________________________________________\n",
      "zero_padding2d_1 (ZeroPadding2D (None, 230, 230, 3)  0           bn_data[0][0]                    \n",
      "__________________________________________________________________________________________________\n",
      "conv0 (Conv2D)                  (None, 112, 112, 64) 9408        zero_padding2d_1[0][0]           \n",
      "__________________________________________________________________________________________________\n",
      "bn0 (BatchNormalization)        (None, 112, 112, 64) 256         conv0[0][0]                      \n",
      "__________________________________________________________________________________________________\n",
      "relu0 (Activation)              (None, 112, 112, 64) 0           bn0[0][0]                        \n",
      "__________________________________________________________________________________________________\n",
      "zero_padding2d_2 (ZeroPadding2D (None, 114, 114, 64) 0           relu0[0][0]                      \n",
      "__________________________________________________________________________________________________\n",
      "pooling0 (MaxPooling2D)         (None, 56, 56, 64)   0           zero_padding2d_2[0][0]           \n",
      "__________________________________________________________________________________________________\n",
      "stage1_unit1_bn1 (BatchNormaliz (None, 56, 56, 64)   256         pooling0[0][0]                   \n",
      "__________________________________________________________________________________________________\n",
      "stage1_unit1_relu1 (Activation) (None, 56, 56, 64)   0           stage1_unit1_bn1[0][0]           \n",
      "__________________________________________________________________________________________________\n",
      "zero_padding2d_3 (ZeroPadding2D (None, 58, 58, 64)   0           stage1_unit1_relu1[0][0]         \n",
      "__________________________________________________________________________________________________\n",
      "stage1_unit1_conv1 (Conv2D)     (None, 56, 56, 64)   36864       zero_padding2d_3[0][0]           \n",
      "__________________________________________________________________________________________________\n",
      "stage1_unit1_bn2 (BatchNormaliz (None, 56, 56, 64)   256         stage1_unit1_conv1[0][0]         \n",
      "__________________________________________________________________________________________________\n",
      "stage1_unit1_relu2 (Activation) (None, 56, 56, 64)   0           stage1_unit1_bn2[0][0]           \n",
      "__________________________________________________________________________________________________\n",
      "zero_padding2d_4 (ZeroPadding2D (None, 58, 58, 64)   0           stage1_unit1_relu2[0][0]         \n",
      "__________________________________________________________________________________________________\n",
      "stage1_unit1_conv2 (Conv2D)     (None, 56, 56, 64)   36864       zero_padding2d_4[0][0]           \n",
      "__________________________________________________________________________________________________\n",
      "stage1_unit1_sc (Conv2D)        (None, 56, 56, 64)   4096        stage1_unit1_relu1[0][0]         \n",
      "__________________________________________________________________________________________________\n",
      "add_1 (Add)                     (None, 56, 56, 64)   0           stage1_unit1_conv2[0][0]         \n",
      "                                                                 stage1_unit1_sc[0][0]            \n",
      "__________________________________________________________________________________________________\n",
      "stage1_unit2_bn1 (BatchNormaliz (None, 56, 56, 64)   256         add_1[0][0]                      \n",
      "__________________________________________________________________________________________________\n",
      "stage1_unit2_relu1 (Activation) (None, 56, 56, 64)   0           stage1_unit2_bn1[0][0]           \n",
      "__________________________________________________________________________________________________\n",
      "zero_padding2d_5 (ZeroPadding2D (None, 58, 58, 64)   0           stage1_unit2_relu1[0][0]         \n",
      "__________________________________________________________________________________________________\n",
      "stage1_unit2_conv1 (Conv2D)     (None, 56, 56, 64)   36864       zero_padding2d_5[0][0]           \n",
      "__________________________________________________________________________________________________\n",
      "stage1_unit2_bn2 (BatchNormaliz (None, 56, 56, 64)   256         stage1_unit2_conv1[0][0]         \n",
      "__________________________________________________________________________________________________\n",
      "stage1_unit2_relu2 (Activation) (None, 56, 56, 64)   0           stage1_unit2_bn2[0][0]           \n",
      "__________________________________________________________________________________________________\n",
      "zero_padding2d_6 (ZeroPadding2D (None, 58, 58, 64)   0           stage1_unit2_relu2[0][0]         \n",
      "__________________________________________________________________________________________________\n",
      "stage1_unit2_conv2 (Conv2D)     (None, 56, 56, 64)   36864       zero_padding2d_6[0][0]           \n",
      "__________________________________________________________________________________________________\n",
      "add_2 (Add)                     (None, 56, 56, 64)   0           stage1_unit2_conv2[0][0]         \n",
      "                                                                 add_1[0][0]                      \n",
      "__________________________________________________________________________________________________\n",
      "stage2_unit1_bn1 (BatchNormaliz (None, 56, 56, 64)   256         add_2[0][0]                      \n",
      "__________________________________________________________________________________________________\n",
      "stage2_unit1_relu1 (Activation) (None, 56, 56, 64)   0           stage2_unit1_bn1[0][0]           \n",
      "__________________________________________________________________________________________________\n",
      "zero_padding2d_7 (ZeroPadding2D (None, 58, 58, 64)   0           stage2_unit1_relu1[0][0]         \n",
      "__________________________________________________________________________________________________\n",
      "stage2_unit1_conv1 (Conv2D)     (None, 28, 28, 128)  73728       zero_padding2d_7[0][0]           \n",
      "__________________________________________________________________________________________________\n",
      "stage2_unit1_bn2 (BatchNormaliz (None, 28, 28, 128)  512         stage2_unit1_conv1[0][0]         \n",
      "__________________________________________________________________________________________________\n",
      "stage2_unit1_relu2 (Activation) (None, 28, 28, 128)  0           stage2_unit1_bn2[0][0]           \n",
      "__________________________________________________________________________________________________\n",
      "zero_padding2d_8 (ZeroPadding2D (None, 30, 30, 128)  0           stage2_unit1_relu2[0][0]         \n",
      "__________________________________________________________________________________________________\n",
      "stage2_unit1_conv2 (Conv2D)     (None, 28, 28, 128)  147456      zero_padding2d_8[0][0]           \n",
      "__________________________________________________________________________________________________\n",
      "stage2_unit1_sc (Conv2D)        (None, 28, 28, 128)  8192        stage2_unit1_relu1[0][0]         \n",
      "__________________________________________________________________________________________________\n",
      "add_3 (Add)                     (None, 28, 28, 128)  0           stage2_unit1_conv2[0][0]         \n",
      "                                                                 stage2_unit1_sc[0][0]            \n",
      "__________________________________________________________________________________________________\n",
      "stage2_unit2_bn1 (BatchNormaliz (None, 28, 28, 128)  512         add_3[0][0]                      \n",
      "__________________________________________________________________________________________________\n",
      "stage2_unit2_relu1 (Activation) (None, 28, 28, 128)  0           stage2_unit2_bn1[0][0]           \n",
      "__________________________________________________________________________________________________\n",
      "zero_padding2d_9 (ZeroPadding2D (None, 30, 30, 128)  0           stage2_unit2_relu1[0][0]         \n",
      "__________________________________________________________________________________________________\n",
      "stage2_unit2_conv1 (Conv2D)     (None, 28, 28, 128)  147456      zero_padding2d_9[0][0]           \n",
      "__________________________________________________________________________________________________\n",
      "stage2_unit2_bn2 (BatchNormaliz (None, 28, 28, 128)  512         stage2_unit2_conv1[0][0]         \n",
      "__________________________________________________________________________________________________\n",
      "stage2_unit2_relu2 (Activation) (None, 28, 28, 128)  0           stage2_unit2_bn2[0][0]           \n",
      "__________________________________________________________________________________________________\n",
      "zero_padding2d_10 (ZeroPadding2 (None, 30, 30, 128)  0           stage2_unit2_relu2[0][0]         \n",
      "__________________________________________________________________________________________________\n",
      "stage2_unit2_conv2 (Conv2D)     (None, 28, 28, 128)  147456      zero_padding2d_10[0][0]          \n",
      "__________________________________________________________________________________________________\n",
      "add_4 (Add)                     (None, 28, 28, 128)  0           stage2_unit2_conv2[0][0]         \n",
      "                                                                 add_3[0][0]                      \n",
      "__________________________________________________________________________________________________\n",
      "stage3_unit1_bn1 (BatchNormaliz (None, 28, 28, 128)  512         add_4[0][0]                      \n",
      "__________________________________________________________________________________________________\n",
      "stage3_unit1_relu1 (Activation) (None, 28, 28, 128)  0           stage3_unit1_bn1[0][0]           \n",
      "__________________________________________________________________________________________________\n",
      "zero_padding2d_11 (ZeroPadding2 (None, 30, 30, 128)  0           stage3_unit1_relu1[0][0]         \n",
      "__________________________________________________________________________________________________\n",
      "stage3_unit1_conv1 (Conv2D)     (None, 14, 14, 256)  294912      zero_padding2d_11[0][0]          \n",
      "__________________________________________________________________________________________________\n",
      "stage3_unit1_bn2 (BatchNormaliz (None, 14, 14, 256)  1024        stage3_unit1_conv1[0][0]         \n",
      "__________________________________________________________________________________________________\n",
      "stage3_unit1_relu2 (Activation) (None, 14, 14, 256)  0           stage3_unit1_bn2[0][0]           \n",
      "__________________________________________________________________________________________________\n",
      "zero_padding2d_12 (ZeroPadding2 (None, 16, 16, 256)  0           stage3_unit1_relu2[0][0]         \n",
      "__________________________________________________________________________________________________\n",
      "stage3_unit1_conv2 (Conv2D)     (None, 14, 14, 256)  589824      zero_padding2d_12[0][0]          \n",
      "__________________________________________________________________________________________________\n",
      "stage3_unit1_sc (Conv2D)        (None, 14, 14, 256)  32768       stage3_unit1_relu1[0][0]         \n",
      "__________________________________________________________________________________________________\n",
      "add_5 (Add)                     (None, 14, 14, 256)  0           stage3_unit1_conv2[0][0]         \n",
      "                                                                 stage3_unit1_sc[0][0]            \n",
      "__________________________________________________________________________________________________\n",
      "stage3_unit2_bn1 (BatchNormaliz (None, 14, 14, 256)  1024        add_5[0][0]                      \n",
      "__________________________________________________________________________________________________\n",
      "stage3_unit2_relu1 (Activation) (None, 14, 14, 256)  0           stage3_unit2_bn1[0][0]           \n",
      "__________________________________________________________________________________________________\n",
      "zero_padding2d_13 (ZeroPadding2 (None, 16, 16, 256)  0           stage3_unit2_relu1[0][0]         \n",
      "__________________________________________________________________________________________________\n",
      "stage3_unit2_conv1 (Conv2D)     (None, 14, 14, 256)  589824      zero_padding2d_13[0][0]          \n",
      "__________________________________________________________________________________________________\n",
      "stage3_unit2_bn2 (BatchNormaliz (None, 14, 14, 256)  1024        stage3_unit2_conv1[0][0]         \n",
      "__________________________________________________________________________________________________\n",
      "stage3_unit2_relu2 (Activation) (None, 14, 14, 256)  0           stage3_unit2_bn2[0][0]           \n",
      "__________________________________________________________________________________________________\n",
      "zero_padding2d_14 (ZeroPadding2 (None, 16, 16, 256)  0           stage3_unit2_relu2[0][0]         \n",
      "__________________________________________________________________________________________________\n",
      "stage3_unit2_conv2 (Conv2D)     (None, 14, 14, 256)  589824      zero_padding2d_14[0][0]          \n",
      "__________________________________________________________________________________________________\n",
      "add_6 (Add)                     (None, 14, 14, 256)  0           stage3_unit2_conv2[0][0]         \n",
      "                                                                 add_5[0][0]                      \n",
      "__________________________________________________________________________________________________\n",
      "stage4_unit1_bn1 (BatchNormaliz (None, 14, 14, 256)  1024        add_6[0][0]                      \n",
      "__________________________________________________________________________________________________\n",
      "stage4_unit1_relu1 (Activation) (None, 14, 14, 256)  0           stage4_unit1_bn1[0][0]           \n",
      "__________________________________________________________________________________________________\n",
      "zero_padding2d_15 (ZeroPadding2 (None, 16, 16, 256)  0           stage4_unit1_relu1[0][0]         \n",
      "__________________________________________________________________________________________________\n",
      "stage4_unit1_conv1 (Conv2D)     (None, 7, 7, 512)    1179648     zero_padding2d_15[0][0]          \n",
      "__________________________________________________________________________________________________\n",
      "stage4_unit1_bn2 (BatchNormaliz (None, 7, 7, 512)    2048        stage4_unit1_conv1[0][0]         \n",
      "__________________________________________________________________________________________________\n",
      "stage4_unit1_relu2 (Activation) (None, 7, 7, 512)    0           stage4_unit1_bn2[0][0]           \n",
      "__________________________________________________________________________________________________\n",
      "zero_padding2d_16 (ZeroPadding2 (None, 9, 9, 512)    0           stage4_unit1_relu2[0][0]         \n",
      "__________________________________________________________________________________________________\n",
      "stage4_unit1_conv2 (Conv2D)     (None, 7, 7, 512)    2359296     zero_padding2d_16[0][0]          \n",
      "__________________________________________________________________________________________________\n",
      "stage4_unit1_sc (Conv2D)        (None, 7, 7, 512)    131072      stage4_unit1_relu1[0][0]         \n",
      "__________________________________________________________________________________________________\n",
      "add_7 (Add)                     (None, 7, 7, 512)    0           stage4_unit1_conv2[0][0]         \n",
      "                                                                 stage4_unit1_sc[0][0]            \n",
      "__________________________________________________________________________________________________\n",
      "stage4_unit2_bn1 (BatchNormaliz (None, 7, 7, 512)    2048        add_7[0][0]                      \n",
      "__________________________________________________________________________________________________\n",
      "stage4_unit2_relu1 (Activation) (None, 7, 7, 512)    0           stage4_unit2_bn1[0][0]           \n",
      "__________________________________________________________________________________________________\n",
      "zero_padding2d_17 (ZeroPadding2 (None, 9, 9, 512)    0           stage4_unit2_relu1[0][0]         \n",
      "__________________________________________________________________________________________________\n",
      "stage4_unit2_conv1 (Conv2D)     (None, 7, 7, 512)    2359296     zero_padding2d_17[0][0]          \n",
      "__________________________________________________________________________________________________\n",
      "stage4_unit2_bn2 (BatchNormaliz (None, 7, 7, 512)    2048        stage4_unit2_conv1[0][0]         \n",
      "__________________________________________________________________________________________________\n",
      "stage4_unit2_relu2 (Activation) (None, 7, 7, 512)    0           stage4_unit2_bn2[0][0]           \n",
      "__________________________________________________________________________________________________\n",
      "zero_padding2d_18 (ZeroPadding2 (None, 9, 9, 512)    0           stage4_unit2_relu2[0][0]         \n",
      "__________________________________________________________________________________________________\n",
      "stage4_unit2_conv2 (Conv2D)     (None, 7, 7, 512)    2359296     zero_padding2d_18[0][0]          \n",
      "__________________________________________________________________________________________________\n",
      "add_8 (Add)                     (None, 7, 7, 512)    0           stage4_unit2_conv2[0][0]         \n",
      "                                                                 add_7[0][0]                      \n",
      "__________________________________________________________________________________________________\n",
      "bn1 (BatchNormalization)        (None, 7, 7, 512)    2048        add_8[0][0]                      \n",
      "__________________________________________________________________________________________________\n",
      "relu1 (Activation)              (None, 7, 7, 512)    0           bn1[0][0]                        \n",
      "==================================================================================================\n",
      "Total params: 11,186,889\n",
      "Trainable params: 11,178,947\n",
      "Non-trainable params: 7,942\n",
      "__________________________________________________________________________________________________\n"
     ]
    }
   ],
   "source": [
    "base_model.summary()"
   ]
  },
  {
   "cell_type": "code",
   "execution_count": 9,
   "metadata": {
    "colab": {},
    "colab_type": "code",
    "id": "2B5VHMq-mb_F"
   },
   "outputs": [],
   "source": [
    "from keras import optimizers\n",
    "from keras_preprocessing.image import ImageDataGenerator\n",
    "train_generator = ImageDataGenerator(rescale = 1./255,\n",
    "                                     rotation_range=10,  \n",
    "                                     zoom_range = 0.1, \n",
    "                                     width_shift_range=0.2,  height_shift_range=0.2) "
   ]
  },
  {
   "cell_type": "code",
   "execution_count": 10,
   "metadata": {
    "colab": {
     "base_uri": "https://localhost:8080/",
     "height": 92
    },
    "colab_type": "code",
    "executionInfo": {
     "elapsed": 57298,
     "status": "ok",
     "timestamp": 1561908385668,
     "user": {
      "displayName": "new guy",
      "photoUrl": "",
      "userId": "03120160726989926836"
     },
     "user_tz": -330
    },
    "id": "DJ7QCh67mfJF",
    "outputId": "8c5292e9-54b8-48a6-fb2d-0c233211a1b9"
   },
   "outputs": [
    {
     "name": "stdout",
     "output_type": "stream",
     "text": [
      "Found 948603 images belonging to 2 classes.\n"
     ]
    }
   ],
   "source": [
    "train_data= train_generator.flow_from_directory(\n",
    "                                                batch_size=256,directory=\"/raid/Data/Master_Dataset/elvin/final_mix/train\",\n",
    "                                                shuffle=True,class_mode=\"binary\",target_size=(224,224))"
   ]
  },
  {
   "cell_type": "code",
   "execution_count": 11,
   "metadata": {},
   "outputs": [
    {
     "data": {
      "text/plain": [
       "{'fake': 0, 'real': 1}"
      ]
     },
     "execution_count": 11,
     "metadata": {},
     "output_type": "execute_result"
    }
   ],
   "source": [
    "train_data.class_indices"
   ]
  },
  {
   "cell_type": "code",
   "execution_count": 12,
   "metadata": {
    "colab": {},
    "colab_type": "code",
    "id": "A5GFfxtomjhZ"
   },
   "outputs": [],
   "source": [
    "\n",
    "validation_generator=ImageDataGenerator(rescale = 1./255)"
   ]
  },
  {
   "cell_type": "code",
   "execution_count": 13,
   "metadata": {
    "colab": {
     "base_uri": "https://localhost:8080/",
     "height": 35
    },
    "colab_type": "code",
    "executionInfo": {
     "elapsed": 56449,
     "status": "ok",
     "timestamp": 1561908388015,
     "user": {
      "displayName": "new guy",
      "photoUrl": "",
      "userId": "03120160726989926836"
     },
     "user_tz": -330
    },
    "id": "nStpDSfDmm1N",
    "outputId": "19aaeda6-0f55-4855-b8b3-4fe268fa0cba"
   },
   "outputs": [
    {
     "name": "stdout",
     "output_type": "stream",
     "text": [
      "Found 518144 images belonging to 2 classes.\n"
     ]
    }
   ],
   "source": [
    "val_data= validation_generator.flow_from_directory(\n",
    "                                              directory=\"/raid/Data/Master_Dataset/elvin/final_mix/validation\",\n",
    "                                              shuffle=True,batch_size=32,class_mode=\"binary\",target_size=(224,224))"
   ]
  },
  {
   "cell_type": "code",
   "execution_count": 14,
   "metadata": {
    "colab": {},
    "colab_type": "code",
    "id": "nRDW75QQmr2k"
   },
   "outputs": [],
   "source": [
    "from keras.callbacks import ReduceLROnPlateau\n",
    "\n",
    "learning_rate_reduction = ReduceLROnPlateau(monitor='val_accuracy', patience=2, verbose=1, factor=.5, min_lr=0.00001)"
   ]
  },
  {
   "cell_type": "code",
   "execution_count": 13,
   "metadata": {},
   "outputs": [],
   "source": [
    "from keras.callbacks import EarlyStopping\n",
    "\n",
    "es = EarlyStopping(monitor='val_loss', mode='min', verbose=1, patience=5)"
   ]
  },
  {
   "cell_type": "code",
   "execution_count": null,
   "metadata": {},
   "outputs": [],
   "source": [
    "    # Extra Layers\n",
    "    \n",
    "#     x0 = keras.layers.Conv2D(filters=64, kernel_size=(3,3), activation=\"relu\")(base_model.output)\n",
    "#     x  = keras.layers.GlobalAveragePooling2D()(x0) \n",
    "#     x1 = keras.layers.Dropout(0.4)(x)\n",
    "#     x2 = keras.layers.Dense(512, activation='relu')(x1)\n",
    "# #     x3 = keras.layers.BatchNormalization(axis=-1, momentum=0.1, epsilon=1e-05)(x2)\n",
    "#     x4 = keras.layers.Dropout(0.25)(x2)\n",
    "#     x5 = keras.layers.Dense(256, activation='relu')(x4)\n",
    "#     output = keras.layers.Dense(n_classes, activation='sigmoid')(x5)\n",
    "#     model = keras.models.Model(inputs=[base_model.input], outputs=[output])    \n",
    "#     model.summary()"
   ]
  },
  {
   "cell_type": "code",
   "execution_count": 15,
   "metadata": {},
   "outputs": [],
   "source": [
    "from matplotlib import pyplot\n",
    "import sys"
   ]
  },
  {
   "cell_type": "code",
   "execution_count": 16,
   "metadata": {},
   "outputs": [],
   "source": [
    "def summarize_diagnostics(history,epoch):\n",
    "    # plot loss\n",
    "    pyplot.subplot(121)\n",
    "    pyplot.title('Cross Entropy Loss')\n",
    "    pyplot.plot(history.history['loss'], color='blue', label='train')\n",
    "    pyplot.plot(history.history['val_loss'], color='orange', label='test')\n",
    "    pyplot.ylabel('Loss')\n",
    "    pyplot.xlabel('Epochs')\n",
    "\n",
    "    # plot accuracy\n",
    "    pyplot.subplot(122)\n",
    "    pyplot.title('Classification Accuracy')\n",
    "    pyplot.plot(history.history['accuracy'], color='blue', label='train')\n",
    "    pyplot.plot(history.history['val_accuracy'], color='orange', label='test')\n",
    "    pyplot.ylabel('Accuracy')\n",
    "    pyplot.xlabel('Epochs')\n",
    "\n",
    "    pyplot.subplots_adjust(top=0.92, bottom=0.2, left=0.0, right=2.5, hspace=0.25,\n",
    "                    wspace=0.25)\n",
    "    pyplot.show()    \n",
    "\n",
    "\n",
    "    #     pyplot.subplot(213)\n",
    "    # \tpyplot.title('Classification Accuracy')\n",
    "    # \tpyplot.plot(history.history['accuracy'], color='blue', label='train')\n",
    "    # \tpyplot.plot(history.history['val_accuracy'], color='orange', label='test')\n",
    "    # save plot to file\n",
    "    filename = sys.argv[0].split('/')[-1]\n",
    "    pyplot.savefig(filename +'FinalPaperResNet18'+str(epoch)+ '_plot.png')"
   ]
  },
  {
   "cell_type": "code",
   "execution_count": 18,
   "metadata": {
    "scrolled": true
   },
   "outputs": [
    {
     "name": "stdout",
     "output_type": "stream",
     "text": [
      "Epoch 1/6\n",
      "3705/3705 [==============================] - 12537s 3s/step - loss: 0.2293 - accuracy: 0.8987 - val_loss: 0.5939 - val_accuracy: 0.8150\n",
      "Epoch 2/6\n",
      "3705/3705 [==============================] - 12757s 3s/step - loss: 0.1133 - accuracy: 0.9551 - val_loss: 0.3697 - val_accuracy: 0.8003\n",
      "Epoch 3/6\n",
      "3705/3705 [==============================] - 11373s 3s/step - loss: 0.0887 - accuracy: 0.9655 - val_loss: 0.2755 - val_accuracy: 0.8525\n",
      "Epoch 4/6\n",
      "3705/3705 [==============================] - 11350s 3s/step - loss: 0.0714 - accuracy: 0.9723 - val_loss: 0.4821 - val_accuracy: 0.7925\n",
      "Epoch 5/6\n",
      "3705/3705 [==============================] - 16689s 5s/step - loss: 0.0627 - accuracy: 0.9758 - val_loss: 1.3516 - val_accuracy: 0.7496\n",
      "\n",
      "Epoch 00005: ReduceLROnPlateau reducing learning rate to 0.0005000000237487257.\n",
      "Epoch 6/6\n",
      "3705/3705 [==============================] - 18742s 5s/step - loss: 0.0390 - accuracy: 0.9849 - val_loss: 0.4550 - val_accuracy: 0.8340\n"
     ]
    },
    {
     "data": {
      "image/png": "[encoded data removed]",
      "text/plain": [
       "<Figure size 432x288 with 2 Axes>"
      ]
     },
     "metadata": {
      "needs_background": "light"
     },
     "output_type": "display_data"
    },
    {
     "data": {
      "text/plain": [
       "<Figure size 432x288 with 0 Axes>"
      ]
     },
     "metadata": {},
     "output_type": "display_data"
    }
   ],
   "source": [
    "from keras.utils import multi_gpu_model\n",
    "from keras.models import load_model\n",
    "from keras.optimizers import Adam as Adam\n",
    "for y in [6]:\n",
    "    #try:\n",
    "    final_location=[]\n",
    "    location=[]\n",
    "\n",
    "\n",
    "# OPTIMIZER\n",
    "#     Adam(lr=0.001)\n",
    "#     x0 = keras.layers.Conv2D(filters=64, kernel_size=(3,3), activation=\"relu\")(base_model.output)\n",
    "#     x  = keras.layers.GlobalAveragePooling2D()(x0) \n",
    "#     x1 = keras.layers.Dropout(0.4)(x)\n",
    "#     x2 = keras.layers.Dense(512, activation='relu')(x1)\n",
    "# #     x3 = keras.layers.BatchNormalization(axis=-1, momentum=0.1, epsilon=1e-05)(x2)\n",
    "#     x4 = keras.layers.Dropout(0.25)(x2)\n",
    "#     x5 = keras.layers.Dense(256, activation='relu')(x4)\n",
    "#     output = keras.layers.Dense(n_classes, activation='sigmoid')(x5)\n",
    "#     model = keras.models.Model(inputs=[base_model.input], outputs=[output])   \n",
    "    \n",
    "    model= Sequential()\n",
    "    model.add(base_model)\n",
    "    model.add(Conv2D(64, (3, 3), activation = 'relu'))\n",
    "    #model.add(BatchNormalization(axis=-1, momentum=0.1, epsilon=1e-04))\n",
    "    #model.add(MaxPooling2D(pool_size = (2, 2)))\n",
    "    model.add(Dropout(0.40))\n",
    "    model.add(Conv2D(64, (3, 3), activation = 'relu'))\n",
    "    #model.add(BatchNormalization(axis=-1, momentum=0.1, epsilon=1e-04))\n",
    "    model.add(MaxPooling2D(pool_size = (2, 2)))\n",
    "    model.add(Dropout(0.40))\n",
    "    model.add(Flatten())\n",
    "    model.add(Dense(512,activation='relu'))\n",
    "    model.add(Dropout(0.4))\n",
    "    model.add(Dense(1, activation='sigmoid'))\n",
    "\n",
    "    \n",
    "    \n",
    "    \n",
    "    #model.summary()\n",
    "#     model = load_model(\"Newdataset_ResNet18_4.hdf5\")\n",
    "    #sgd = (lr=0.01, decay=1e-6, momentum=0.9, nesterov=True)\n",
    "    \n",
    "    #parallel_model = multi_gpu_model(model, gpus=3)\n",
    "    model.compile(loss='binary_crossentropy',\n",
    "                           optimizer=Adam(lr=0.001),metrics=[\"accuracy\"])\n",
    "\n",
    "    #model.compile(optimizer=Adam(lr=0.001),loss=\"binary_crossentropy\",metrics=[\"accuracy\"])\n",
    "    \n",
    "    history=model.fit_generator(generator=train_data,\n",
    "                            steps_per_epoch=train_data.samples//train_data.batch_size,\n",
    "                            validation_data=val_data,\n",
    "                            verbose=1,\n",
    "                            validation_steps=val_data.samples//val_data.batch_size,\n",
    "                            epochs=y,callbacks=[learning_rate_reduction ])\n",
    "    \n",
    "    model.save(\"FinalPaper\"+str(y)+\".hdf5\")\n",
    "    summarize_diagnostics(history,y)\n",
    "    loss=history.history['loss']\n",
    "    acc=history.history['accuracy']\n",
    "    valacc=history.history['val_accuracy']\n",
    "    valloss=history.history['val_loss']\n",
    "    location = [y,loss,acc,valacc, valloss]\n",
    "    final_location.append(location)\n",
    "    save1 = pd.DataFrame(final_location,columns=['epochs','loss','acc','valacc','valloss'])\n",
    "    save1.to_csv('FinalPaperResNet18'+str(y)+'.csv')\n",
    "    #except:\n",
    "     #   continue\n",
    "\n",
    "    \n",
    "\n"
   ]
  },
  {
   "cell_type": "code",
   "execution_count": 21,
   "metadata": {
    "collapsed": true
   },
   "outputs": [
    {
     "data": {
      "image/png": "[encoded data removed]",
      "text/plain": [
       "<Figure size 432x288 with 2 Axes>"
      ]
     },
     "metadata": {
      "needs_background": "light"
     },
     "output_type": "display_data"
    },
    {
     "data": {
      "text/plain": [
       "<Figure size 432x288 with 0 Axes>"
      ]
     },
     "metadata": {},
     "output_type": "display_data"
    }
   ],
   "source": [
    "summarize_diagnostics(history,y)"
   ]
  },
  {
   "cell_type": "code",
   "execution_count": 22,
   "metadata": {
    "collapsed": true
   },
   "outputs": [
    {
     "name": "stdout",
     "output_type": "stream",
     "text": [
      "Epoch 1/4\n",
      "3705/3705 [==============================] - 13645s 4s/step - loss: 0.0507 - accuracy: 0.9810 - val_loss: 0.8156 - val_accuracy: 0.7953\n",
      "Epoch 2/4\n",
      "3705/3705 [==============================] - 13413s 4s/step - loss: 0.0470 - accuracy: 0.9820 - val_loss: 0.0212 - val_accuracy: 0.8351\n",
      "Epoch 3/4\n",
      "3705/3705 [==============================] - 11866s 3s/step - loss: 0.0745 - accuracy: 0.9720 - val_loss: 0.3255 - val_accuracy: 0.8393\n",
      "Epoch 4/4\n",
      "3705/3705 [==============================] - 11222s 3s/step - loss: 0.0393 - accuracy: 0.9850 - val_loss: 0.5482 - val_accuracy: 0.7633\n"
     ]
    },
    {
     "data": {
      "image/png": "[encoded data removed]",
      "text/plain": [
       "<Figure size 432x288 with 2 Axes>"
      ]
     },
     "metadata": {
      "needs_background": "light"
     },
     "output_type": "display_data"
    },
    {
     "data": {
      "text/plain": [
       "<Figure size 432x288 with 0 Axes>"
      ]
     },
     "metadata": {},
     "output_type": "display_data"
    }
   ],
   "source": [
    "from keras.utils import multi_gpu_model\n",
    "from keras.models import load_model\n",
    "from keras.optimizers import Adam as Adam\n",
    "for y in [4]:\n",
    "    #try:\n",
    "    final_location=[]\n",
    "    location=[]\n",
    "\n",
    "\n",
    "# OPTIMIZER\n",
    "#     Adam(lr=0.001)\n",
    "#     x0 = keras.layers.Conv2D(filters=64, kernel_size=(3,3), activation=\"relu\")(base_model.output)\n",
    "#     x  = keras.layers.GlobalAveragePooling2D()(x0) \n",
    "#     x1 = keras.layers.Dropout(0.4)(x)\n",
    "#     x2 = keras.layers.Dense(512, activation='relu')(x1)\n",
    "# #     x3 = keras.layers.BatchNormalization(axis=-1, momentum=0.1, epsilon=1e-05)(x2)\n",
    "#     x4 = keras.layers.Dropout(0.25)(x2)\n",
    "#     x5 = keras.layers.Dense(256, activation='relu')(x4)\n",
    "#     output = keras.layers.Dense(n_classes, activation='sigmoid')(x5)\n",
    "#     model = keras.models.Model(inputs=[base_model.input], outputs=[output])    \n",
    "    \n",
    "    \n",
    "    \n",
    "    model= Sequential()\n",
    "    model.add(base_model)\n",
    "    model.add(Conv2D(64, (3, 3), activation = 'relu'))\n",
    "    #model.add(BatchNormalization(axis=-1, momentum=0.1, epsilon=1e-04))\n",
    "    #model.add(MaxPooling2D(pool_size = (2, 2)))\n",
    "    model.add(Dropout(0.40))\n",
    "    model.add(Conv2D(64, (3, 3), activation = 'relu'))\n",
    "    #model.add(BatchNormalization(axis=-1, momentum=0.1, epsilon=1e-04))\n",
    "    model.add(MaxPooling2D(pool_size = (2, 2)))\n",
    "    model.add(Dropout(0.40))\n",
    "    model.add(Flatten())\n",
    "    model.add(Dense(512,activation='relu'))\n",
    "    model.add(Dropout(0.4))\n",
    "    model.add(Dense(1, activation='sigmoid'))\n",
    "    \n",
    "    \n",
    "    \n",
    "    \n",
    "    \n",
    "    \n",
    "    #model.summary()\n",
    "#     model = load_model(\"Newdataset_ResNet18_4.hdf5\")\n",
    "    #sgd = (lr=0.01, decay=1e-6, momentum=0.9, nesterov=True)\n",
    "    \n",
    "    #parallel_model = multi_gpu_model(model, gpus=3)\n",
    "    model.compile(loss='binary_crossentropy',\n",
    "                           optimizer=Adam(lr=0.001),metrics=[\"accuracy\"])\n",
    "\n",
    "    #model.compile(optimizer=Adam(lr=0.001),loss=\"binary_crossentropy\",metrics=[\"accuracy\"])\n",
    "    \n",
    "    history=model.fit_generator(generator=train_data,\n",
    "                            steps_per_epoch=train_data.samples//train_data.batch_size,\n",
    "                            validation_data=val_data,\n",
    "                            verbose=1,\n",
    "                            validation_steps=val_data.samples//val_data.batch_size,\n",
    "                            epochs=y,callbacks=[learning_rate_reduction,es])\n",
    "    \n",
    "    model.save(\"Latest_Super_ResNet18_Adamnew\"+str(y)+\".hdf5\")\n",
    "    summarize_diagnostics(history,y)\n",
    "    loss=history.history['loss']\n",
    "    acc=history.history['accuracy']\n",
    "    valacc=history.history['val_accuracy']\n",
    "    valloss=history.history['val_loss']\n",
    "    location = [y,loss,acc,valacc, valloss]\n",
    "    final_location.append(location)\n",
    "    save1 = pd.DataFrame(final_location,columns=['epochs','loss','acc','valacc','valloss'])\n",
    "    save1.to_csv('Latest_Super_epoch_ResNett18_Adamnew'+str(y)+'.csv')\n",
    "    #except:\n",
    "     #   continue\n",
    "\n",
    "    \n",
    "\n"
   ]
  },
  {
   "cell_type": "code",
   "execution_count": null,
   "metadata": {
    "colab": {},
    "colab_type": "code",
    "id": "ppPTtlCu1r0W"
   },
   "outputs": [],
   "source": [
    "# parallel_model.save(\"NEWdataset_RESNET_18.hdf5\")"
   ]
  },
  {
   "cell_type": "code",
   "execution_count": null,
   "metadata": {
    "colab": {
     "base_uri": "https://localhost:8080/",
     "height": 257
    },
    "colab_type": "code",
    "executionInfo": {
     "elapsed": 18254,
     "status": "ok",
     "timestamp": 1560951509490,
     "user": {
      "displayName": "new guy",
      "photoUrl": "",
      "userId": "03120160726989926836"
     },
     "user_tz": -330
    },
    "id": "aM09RwQ79BQS",
    "outputId": "21031dbd-11da-4a1a-e15d-573ed2b1a549"
   },
   "outputs": [],
   "source": [
    "#YE SAB KACHRA HAI \n",
    "# \"\"\"\"\"\n",
    "# import numpy as np\n",
    "# from tensorflow.keras.preprocessing import image\n",
    "# prediction=np.array([])\n",
    "# train_data.class_indices\n",
    "# import os\n",
    "# list=os.listdir('fakeframes')\n",
    "# test_image = image.load_img(\"fakevideoframes/jpgframes/frame0.jpg\", target_size = (224, 224))\n",
    "# test_image = image.img_to_array(test_image)\n",
    "# test_image = np.expand_dims(test_image, axis = 0)\n",
    "# result = model.predict(test_image)\n",
    "# print(result)   \"\"\"\"\n",
    "\n",
    "\n",
    "# for name in list:\n",
    "#     test_image = image.load_img(\"drive/My Drive/Internship/predict/\"+name, target_size = (224, 224))\n",
    "#     test_image = image.img_to_array(test_image)\n",
    "#     test_image = np.expand_dims(test_image, axis = 0)\n",
    "#     result = model.predict(test_image)\n",
    "#     #training_set.class_indices\n",
    "#     if result[0][0] == 1:\n",
    "#         prediction=np.append(prediction,'akiec')\n",
    "#     elif(result[0][1] == 1):\n",
    "#         prediction=np.append(prediction,'bcc')\n",
    "#     elif(result[0][2] == 1):\n",
    "#         prediction=np.append(prediction,'bkl')\n",
    "#     elif(result[0][3] == 1):\n",
    "#         prediction=np.append(prediction,'df')\n",
    "#     elif(result[0][4] == 1):\n",
    "#         prediction=np.append(prediction,'mel')\n",
    "#     elif(result[0][5] == 1):\n",
    "#         prediction=np.append(prediction,'nv')\n",
    "#     elif(result[0][6] == 1):\n",
    "#         prediction=np.append(prediction,'vasc')\n",
    "#     else:\n",
    "#         prediction=np.append(prediction,'none')\n"
   ]
  },
  {
   "cell_type": "code",
   "execution_count": null,
   "metadata": {},
   "outputs": [],
   "source": [
    "#         model= Sequential()\n",
    "#         model.add(base_model)\n",
    "#         model.add(Conv2D(512, (3, 3), activation = 'relu'))\n",
    "#         model.add(Conv2D(64, (3, 3), activation = 'relu'))\n",
    "#         #model.add(MaxPooling2D(pool_size = (2, 2)))\n",
    "#         model.add(Dropout(0.40))\n",
    "#         model.add(Conv2D(64, (3, 3), activation = 'relu'))\n",
    "#         model.add(MaxPooling2D(pool_size = (2, 2)))\n",
    "#         model.add(Dropout(0.40))\n",
    "#         model.add(Flatten())\n",
    "#         model.add(Dense(512,activation='relu'))\n",
    "#         model.add(Dropout(0.4))\n",
    "#         model.add(Dense(1, activation='sigmoid'))\n",
    "\n"
   ]
  },
  {
   "cell_type": "code",
   "execution_count": null,
   "metadata": {},
   "outputs": [],
   "source": [
    "# from tensorflow.keras.callbacks import ModelCheckpoint\n",
    "\n",
    "# Save the model with best weights\n",
    "# checkpointer = ModelCheckpoint('Xceptionbestweights1.hdf5', verbose=1,save_best_only=True)"
   ]
  }
 ],
 "metadata": {
  "accelerator": "GPU",
  "colab": {
   "collapsed_sections": [],
   "name": "InceptionV3Own1Arch2.ipynb",
   "provenance": [],
   "version": "0.3.2"
  },
  "kernelspec": {
   "display_name": "Python 3",
   "language": "python",
   "name": "python3"
  },
  "language_info": {
   "codemirror_mode": {
    "name": "ipython",
    "version": 3
   },
   "file_extension": ".py",
   "mimetype": "text/x-python",
   "name": "python",
   "nbconvert_exporter": "python",
   "pygments_lexer": "ipython3",
   "version": "3.5.2"
  }
 },
 "nbformat": 4,
 "nbformat_minor": 1
}
