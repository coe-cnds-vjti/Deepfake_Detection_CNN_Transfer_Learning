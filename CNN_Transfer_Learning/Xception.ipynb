{
 "cells": [
  {
   "cell_type": "code",
   "execution_count": 1,
   "metadata": {
    "colab": {
     "base_uri": "https://localhost:8080/",
     "height": 129
    },
    "colab_type": "code",
    "executionInfo": {
     "elapsed": 42196,
     "status": "ok",
     "timestamp": 1561908311874,
     "user": {
      "displayName": "new guy",
      "photoUrl": "",
      "userId": "03120160726989926836"
     },
     "user_tz": -330
    },
    "id": "ndOM0KpAlfxM",
    "outputId": "cde6bdae-c655-4e21-8d62-705af6d7d341"
   },
   "outputs": [
    {
     "name": "stdout",
     "output_type": "stream",
     "text": [
      "Requirement already satisfied: keras in /usr/local/lib/python3.5/dist-packages (2.3.1)\n",
      "Requirement already satisfied: keras-preprocessing>=1.0.5 in /usr/local/lib/python3.5/dist-packages (from keras) (1.0.5)\n",
      "Requirement already satisfied: pyyaml in /usr/local/lib/python3.5/dist-packages (from keras) (5.3)\n",
      "Requirement already satisfied: numpy>=1.9.1 in /usr/local/lib/python3.5/dist-packages (from keras) (1.14.5)\n",
      "Requirement already satisfied: scipy>=0.14 in /usr/local/lib/python3.5/dist-packages (from keras) (1.3.0)\n",
      "Requirement already satisfied: six>=1.9.0 in /usr/local/lib/python3.5/dist-packages (from keras) (1.12.0)\n",
      "Requirement already satisfied: h5py in /usr/local/lib/python3.5/dist-packages (from keras) (2.9.0)\n",
      "Requirement already satisfied: keras-applications>=1.0.6 in /usr/local/lib/python3.5/dist-packages (from keras) (1.0.6)\n",
      "\u001b[33mWARNING: You are using pip version 19.1.1, however version 20.0.2 is available.\n",
      "You should consider upgrading via the 'pip install --upgrade pip' command.\u001b[0m\n"
     ]
    }
   ],
   "source": [
    "!pip install keras"
   ]
  },
  {
   "cell_type": "code",
   "execution_count": 2,
   "metadata": {},
   "outputs": [],
   "source": [
    "import pandas as pd\n",
    "import numpy as np\n",
    "from tensorflow.keras.models import Sequential\n",
    "from tensorflow.keras.layers import Dense, Conv2D, Dropout, Flatten, MaxPooling2D\n",
    "#from tensorflow.keras.applications import ResNet101V2\n",
    "from tensorflow.keras.applications import Xception\n",
    "#from tensorflow.keras import optimizers\n",
    "from tensorflow.keras.optimizers import Adam as Adam"
   ]
  },
  {
   "cell_type": "code",
   "execution_count": 3,
   "metadata": {
    "colab": {},
    "colab_type": "code",
    "id": "hmH50ibX9KQ7"
   },
   "outputs": [
    {
     "name": "stderr",
     "output_type": "stream",
     "text": [
      "Using TensorFlow backend.\n"
     ]
    }
   ],
   "source": [
    "import tensorflow as tf\n",
    "import keras.backend.tensorflow_backend as ktf\n",
    "\n",
    "\n",
    "def get_session(gpu_fraction=0.9):\n",
    "    gpu_options = tf.GPUOptions(per_process_gpu_memory_fraction=gpu_fraction,\n",
    "                                allow_growth=True)\n",
    "    return tf.Session(config=tf.ConfigProto(gpu_options=gpu_options))\n",
    "\n",
    "\n",
    "ktf.set_session(get_session())"
   ]
  },
  {
   "cell_type": "markdown",
   "metadata": {
    "colab": {
     "base_uri": "https://localhost:8080/",
     "height": 35
    },
    "colab_type": "code",
    "executionInfo": {
     "elapsed": 5056,
     "status": "ok",
     "timestamp": 1561919672504,
     "user": {
      "displayName": "new guy",
      "photoUrl": "",
      "userId": "03120160726989926836"
     },
     "user_tz": -330
    },
    "id": "tk28xpFxnAqa",
    "outputId": "526d266c-5750-42ff-af3b-67bb20b4596c"
   },
   "source": [
    "# import pandas as pd\n",
    "import numpy as np\n",
    "from tensorflow.keras.models import Sequential\n",
    "from tensorflow.keras.layers import Dense, Conv2D, Dropout, Flatten, MaxPooling2D\n",
    "#from tensorflow.keras.applications import ResNet101V2\n",
    "from tensorflow.keras.applications import Xception\n",
    "#from tensorflow.keras import optimizers\n",
    "from tensorflow.keras.optimizers import Adam as Adam"
   ]
  },
  {
   "cell_type": "code",
   "execution_count": 4,
   "metadata": {
    "colab": {
     "base_uri": "https://localhost:8080/",
     "height": 547
    },
    "colab_type": "code",
    "executionInfo": {
     "elapsed": 7681,
     "status": "error",
     "timestamp": 1561919675705,
     "user": {
      "displayName": "new guy",
      "photoUrl": "",
      "userId": "03120160726989926836"
     },
     "user_tz": -330
    },
    "id": "2oj9WnXOlt_C",
    "outputId": "36f3e405-6019-4ddb-a106-d898a5284ec3"
   },
   "outputs": [
    {
     "name": "stdout",
     "output_type": "stream",
     "text": [
      "WARNING:tensorflow:From /usr/local/lib/python3.5/dist-packages/tensorflow/python/ops/resource_variable_ops.py:435: colocate_with (from tensorflow.python.framework.ops) is deprecated and will be removed in a future version.\n",
      "Instructions for updating:\n",
      "Colocations handled automatically by placer.\n"
     ]
    }
   ],
   "source": [
    "base_model=Xception(include_top=False, weights='../xception_weights_tf_dim_ordering_tf_kernels_notop.h5', input_shape=(224,224,3))"
   ]
  },
  {
   "cell_type": "code",
   "execution_count": 5,
   "metadata": {},
   "outputs": [
    {
     "name": "stdout",
     "output_type": "stream",
     "text": [
      "WARNING:tensorflow:From /usr/local/lib/python3.5/dist-packages/tensorflow/python/keras/layers/core.py:143: calling dropout (from tensorflow.python.ops.nn_ops) with keep_prob is deprecated and will be removed in a future version.\n",
      "Instructions for updating:\n",
      "Please use `rate` instead of `keep_prob`. Rate should be set to `rate = 1 - keep_prob`.\n"
     ]
    }
   ],
   "source": [
    "model= Sequential()\n",
    "model.add(base_model)\n",
    "# model.add(Conv2D(512, (3, 3), activation = 'relu'))\n",
    "\n",
    "model.add(Conv2D(64, (3, 3), activation = 'relu'))\n",
    "#model.add(BatchNormalization(axis=-1, momentum=0.1, epsilon=1e-04))\n",
    "model.add(MaxPooling2D(pool_size = (2, 2)))\n",
    "model.add(Dropout(0.40))\n",
    "model.add(Conv2D(64, (2, 2), activation = 'relu'))\n",
    "#model.add(BatchNormalization(axis=-1, momentum=0.1, epsilon=1e-04))\n",
    "#model.add(MaxPooling2D(pool_size = (2, 2)))\n",
    "model.add(Dropout(0.40))\n",
    "model.add(Flatten())\n",
    "model.add(Dense(512,activation='relu'))\n",
    "model.add(Dropout(0.4))\n",
    "model.add(Dense(1, activation='sigmoid'))"
   ]
  },
  {
   "cell_type": "code",
   "execution_count": 10,
   "metadata": {},
   "outputs": [
    {
     "name": "stdout",
     "output_type": "stream",
     "text": [
      "_________________________________________________________________\n",
      "Layer (type)                 Output Shape              Param #   \n",
      "=================================================================\n",
      "xception (Model)             (None, 7, 7, 2048)        20861480  \n",
      "_________________________________________________________________\n",
      "conv2d_4 (Conv2D)            (None, 5, 5, 64)          1179712   \n",
      "_________________________________________________________________\n",
      "max_pooling2d (MaxPooling2D) (None, 2, 2, 64)          0         \n",
      "_________________________________________________________________\n",
      "dropout (Dropout)            (None, 2, 2, 64)          0         \n",
      "_________________________________________________________________\n",
      "conv2d_5 (Conv2D)            (None, 1, 1, 64)          16448     \n",
      "_________________________________________________________________\n",
      "dropout_1 (Dropout)          (None, 1, 1, 64)          0         \n",
      "_________________________________________________________________\n",
      "flatten (Flatten)            (None, 64)                0         \n",
      "_________________________________________________________________\n",
      "dense (Dense)                (None, 512)               33280     \n",
      "_________________________________________________________________\n",
      "dropout_2 (Dropout)          (None, 512)               0         \n",
      "_________________________________________________________________\n",
      "dense_1 (Dense)              (None, 1)                 513       \n",
      "=================================================================\n",
      "Total params: 22,091,433\n",
      "Trainable params: 22,036,905\n",
      "Non-trainable params: 54,528\n",
      "_________________________________________________________________\n"
     ]
    }
   ],
   "source": [
    "model.summary()"
   ]
  },
  {
   "cell_type": "code",
   "execution_count": 5,
   "metadata": {
    "colab": {},
    "colab_type": "code",
    "id": "L_ykdl9qmEDo"
   },
   "outputs": [],
   "source": [
    "from tensorflow.keras.layers import Convolution2D\n",
    "from tensorflow.keras.layers import MaxPooling2D\n",
    "from tensorflow.keras.layers import Flatten\n",
    "from tensorflow.keras.layers import Dense\n",
    "from tensorflow.keras.layers import BatchNormalization \n",
    "from tensorflow.keras.layers import Dropout\n",
    "# model= Sequential()\n",
    "# model.add(base_model)\n",
    "# model.add(Conv2D(64, (3, 3), activation = 'relu'))\n",
    "# model.add(BatchNormalization(axis=-1, momentum=0.1, epsilon=1e-04))\n",
    "# #model.add(MaxPooling2D(pool_size = (2, 2)))\n",
    "# model.add(Dropout(0.30))\n",
    "# model.add(Conv2D(64, (3, 3), activation = 'relu'))\n",
    "# model.add(BatchNormalization(axis=-1, momentum=0.1, epsilon=1e-04))\n",
    "# model.add(MaxPooling2D(pool_size = (2, 2)))\n",
    "# model.add(Dropout(0.30))\n",
    "# model.add(Flatten())\n",
    "\n",
    "# model.add(Dense(1, activation='sigmoid'))\n"
   ]
  },
  {
   "cell_type": "code",
   "execution_count": 6,
   "metadata": {},
   "outputs": [],
   "source": [
    "#model.load_weights(\"../../ResNet50 Weights/ResNet50final11.hdf5\")"
   ]
  },
  {
   "cell_type": "code",
   "execution_count": 6,
   "metadata": {
    "colab": {},
    "colab_type": "code",
    "id": "2B5VHMq-mb_F"
   },
   "outputs": [],
   "source": [
    "from tensorflow.keras import optimizers\n",
    "from keras_preprocessing.image import ImageDataGenerator\n",
    "train_generator = ImageDataGenerator(rescale = 1./255,\n",
    "                                     rotation_range=10,  \n",
    "                                     zoom_range = 0.1, \n",
    "                                     width_shift_range=0.2,  height_shift_range=0.2) "
   ]
  },
  {
   "cell_type": "code",
   "execution_count": 7,
   "metadata": {
    "colab": {
     "base_uri": "https://localhost:8080/",
     "height": 92
    },
    "colab_type": "code",
    "executionInfo": {
     "elapsed": 57298,
     "status": "ok",
     "timestamp": 1561908385668,
     "user": {
      "displayName": "new guy",
      "photoUrl": "",
      "userId": "03120160726989926836"
     },
     "user_tz": -330
    },
    "id": "DJ7QCh67mfJF",
    "outputId": "8c5292e9-54b8-48a6-fb2d-0c233211a1b9"
   },
   "outputs": [
    {
     "name": "stdout",
     "output_type": "stream",
     "text": [
      "Found 948603 images belonging to 2 classes.\n"
     ]
    }
   ],
   "source": [
    "train_data= train_generator.flow_from_directory(\n",
    "                                                batch_size=128,directory=\"/raid/Data/Master_Dataset/elvin/final_mix/train/\",\n",
    "                                                shuffle=True,class_mode=\"binary\",target_size=(224,224))"
   ]
  },
  {
   "cell_type": "code",
   "execution_count": 8,
   "metadata": {},
   "outputs": [
    {
     "data": {
      "text/plain": [
       "{'fake': 0, 'real': 1}"
      ]
     },
     "execution_count": 8,
     "metadata": {},
     "output_type": "execute_result"
    }
   ],
   "source": [
    "train_data.class_indices"
   ]
  },
  {
   "cell_type": "code",
   "execution_count": 10,
   "metadata": {},
   "outputs": [
    {
     "data": {
      "text/plain": [
       "keras_preprocessing.image.ImageDataGenerator"
      ]
     },
     "execution_count": 10,
     "metadata": {},
     "output_type": "execute_result"
    }
   ],
   "source": [
    "type(train_generator)"
   ]
  },
  {
   "cell_type": "code",
   "execution_count": 9,
   "metadata": {},
   "outputs": [
    {
     "data": {
      "text/plain": [
       "keras_preprocessing.image.DirectoryIterator"
      ]
     },
     "execution_count": 9,
     "metadata": {},
     "output_type": "execute_result"
    }
   ],
   "source": [
    "type(train_data)"
   ]
  },
  {
   "cell_type": "code",
   "execution_count": 10,
   "metadata": {
    "colab": {},
    "colab_type": "code",
    "id": "A5GFfxtomjhZ"
   },
   "outputs": [],
   "source": [
    "test_generator=ImageDataGenerator(rescale = 1./255)"
   ]
  },
  {
   "cell_type": "code",
   "execution_count": 11,
   "metadata": {
    "colab": {
     "base_uri": "https://localhost:8080/",
     "height": 35
    },
    "colab_type": "code",
    "executionInfo": {
     "elapsed": 56449,
     "status": "ok",
     "timestamp": 1561908388015,
     "user": {
      "displayName": "new guy",
      "photoUrl": "",
      "userId": "03120160726989926836"
     },
     "user_tz": -330
    },
    "id": "nStpDSfDmm1N",
    "outputId": "19aaeda6-0f55-4855-b8b3-4fe268fa0cba"
   },
   "outputs": [
    {
     "name": "stdout",
     "output_type": "stream",
     "text": [
      "Found 518144 images belonging to 2 classes.\n"
     ]
    }
   ],
   "source": [
    "val_data= test_generator.flow_from_directory(\n",
    "                                              directory=\"/raid/Data/Master_Dataset/elvin/final_mix/validation/\",\n",
    "                                              shuffle=True,batch_size=128, class_mode=\"binary\",target_size=(224,224))"
   ]
  },
  {
   "cell_type": "code",
   "execution_count": 12,
   "metadata": {
    "colab": {},
    "colab_type": "code",
    "id": "nRDW75QQmr2k"
   },
   "outputs": [],
   "source": [
    "from tensorflow.keras.callbacks import ReduceLROnPlateau,ModelCheckpoint\n",
    "\n",
    "learning_rate_reduction = ReduceLROnPlateau(monitor='val_acc', patience=2, verbose=1, factor=.5, min_lr=0.0001)"
   ]
  },
  {
   "cell_type": "code",
   "execution_count": 13,
   "metadata": {},
   "outputs": [],
   "source": [
    "from tensorflow.keras.callbacks import EarlyStopping\n",
    "\n",
    "es = EarlyStopping(monitor='val_loss', mode='min', verbose=1, patience=5)"
   ]
  },
  {
   "cell_type": "code",
   "execution_count": 14,
   "metadata": {},
   "outputs": [],
   "source": [
    "from tensorflow.keras.utils import multi_gpu_model"
   ]
  },
  {
   "cell_type": "code",
   "execution_count": 15,
   "metadata": {
    "colab": {
     "base_uri": "https://localhost:8080/",
     "height": 1000
    },
    "colab_type": "code",
    "executionInfo": {
     "elapsed": 5166449,
     "status": "ok",
     "timestamp": 1561915317414,
     "user": {
      "displayName": "new guy",
      "photoUrl": "",
      "userId": "03120160726989926836"
     },
     "user_tz": -330
    },
    "id": "g8AZIYZ2myZr",
    "outputId": "27d218e5-c794-4705-b86f-df11b40eb0dc"
   },
   "outputs": [],
   "source": [
    "# parallel_model = multi_gpu_model(model, gpus=3)\n",
    "# parallel_model.compile(loss='binary_crossentropy',\n",
    "#                            optimizer=Adam(lr=0.001),metrics=[\"accuracy\"])\n",
    "# #model.compile(optimizer=Adam(lr=0.001),loss=\"binary_crossentropy\",metrics=[\"accuracy\"])\n",
    "# parallel_model.fit_generator(generator=train_data,\n",
    "#                             steps_per_epoch=train_data.samples//train_data.batch_size,\n",
    "#                             validation_data=val_data,\n",
    "#                             verbose=1,\n",
    "#                             validation_steps=val_data.samples//val_data.batch_size,\n",
    "#                             epochs=3,callbacks=[learning_rate_reduction])"
   ]
  },
  {
   "cell_type": "code",
   "execution_count": 15,
   "metadata": {},
   "outputs": [],
   "source": [
    "from matplotlib import pyplot\n",
    "import sys"
   ]
  },
  {
   "cell_type": "code",
   "execution_count": 16,
   "metadata": {},
   "outputs": [],
   "source": [
    "def summarize_diagnostics(history,epoch):\n",
    "    # plot loss\n",
    "    pyplot.subplot(121)\n",
    "    pyplot.title('Cross Entropy Loss')\n",
    "    pyplot.plot(history.history['loss'], color='blue', label='train')\n",
    "    pyplot.plot(history.history['val_loss'], color='orange', label='test')\n",
    "    pyplot.ylabel('Loss')\n",
    "    pyplot.xlabel('Epochs')\n",
    "\n",
    "    # plot accuracy\n",
    "    pyplot.subplot(122)\n",
    "    pyplot.title('Classification Accuracy')\n",
    "    pyplot.plot(history.history['acc'], color='blue', label='train')\n",
    "    pyplot.plot(history.history['val_acc'], color='orange', label='test')\n",
    "    pyplot.ylabel('Accuracy')\n",
    "    pyplot.xlabel('Epochs')\n",
    "\n",
    "    pyplot.subplots_adjust(top=0.92, bottom=0.2, left=0.0, right=2.5, hspace=0.25,\n",
    "                    wspace=0.25)\n",
    "    pyplot.show()    \n",
    "\n",
    "\n",
    "    #     pyplot.subplot(213)\n",
    "    # \tpyplot.title('Classification Accuracy')\n",
    "    # \tpyplot.plot(history.history['accuracy'], color='blue', label='train')\n",
    "    # \tpyplot.plot(history.history['val_accuracy'], color='orange', label='test')\n",
    "    # save plot to file\n",
    "    filename = sys.argv[0].split('/')[-1]\n",
    "    pyplot.savefig(filename +'Xception'+str(epoch)+ '_plot.png')"
   ]
  },
  {
   "cell_type": "code",
   "execution_count": 17,
   "metadata": {},
   "outputs": [],
   "source": [
    "import tensorflow"
   ]
  },
  {
   "cell_type": "code",
   "execution_count": 18,
   "metadata": {},
   "outputs": [],
   "source": [
    "i = 0\n",
    "class LossHistory( tensorflow.keras.callbacks.Callback):\n",
    "    def on_epoch_end(self, epoch, logs=None):\n",
    "        global i\n",
    "        self.model.save(\"XceptionEveryEpoch\" + str(i) + \".hdf5\")\n",
    "        i += 1"
   ]
  },
  {
   "cell_type": "code",
   "execution_count": 19,
   "metadata": {
    "scrolled": true
   },
   "outputs": [
    {
     "name": "stdout",
     "output_type": "stream",
     "text": [
      "WARNING:tensorflow:From /usr/local/lib/python3.5/dist-packages/tensorflow/python/keras/layers/core.py:143: calling dropout (from tensorflow.python.ops.nn_ops) with keep_prob is deprecated and will be removed in a future version.\n",
      "Instructions for updating:\n",
      "Please use `rate` instead of `keep_prob`. Rate should be set to `rate = 1 - keep_prob`.\n",
      "_________________________________________________________________\n",
      "Layer (type)                 Output Shape              Param #   \n",
      "=================================================================\n",
      "xception (Model)             (None, 7, 7, 2048)        20861480  \n",
      "_________________________________________________________________\n",
      "conv2d_4 (Conv2D)            (None, 5, 5, 64)          1179712   \n",
      "_________________________________________________________________\n",
      "max_pooling2d (MaxPooling2D) (None, 2, 2, 64)          0         \n",
      "_________________________________________________________________\n",
      "dropout (Dropout)            (None, 2, 2, 64)          0         \n",
      "_________________________________________________________________\n",
      "conv2d_5 (Conv2D)            (None, 1, 1, 64)          16448     \n",
      "_________________________________________________________________\n",
      "dropout_1 (Dropout)          (None, 1, 1, 64)          0         \n",
      "_________________________________________________________________\n",
      "flatten (Flatten)            (None, 64)                0         \n",
      "_________________________________________________________________\n",
      "dense (Dense)                (None, 512)               33280     \n",
      "_________________________________________________________________\n",
      "dropout_2 (Dropout)          (None, 512)               0         \n",
      "_________________________________________________________________\n",
      "dense_1 (Dense)              (None, 1)                 513       \n",
      "=================================================================\n",
      "Total params: 22,091,433\n",
      "Trainable params: 22,036,905\n",
      "Non-trainable params: 54,528\n",
      "_________________________________________________________________\n",
      "WARNING:tensorflow:From /usr/local/lib/python3.5/dist-packages/tensorflow/python/ops/math_ops.py:3066: to_int32 (from tensorflow.python.ops.math_ops) is deprecated and will be removed in a future version.\n",
      "Instructions for updating:\n",
      "Use tf.cast instead.\n",
      "Epoch 1/6\n",
      "4048/4048 [==============================] - 2043s 505ms/step - loss: 0.3589 - acc: 0.8774\n",
      "\n",
      "Epoch 00001: val_acc improved from -inf to 0.87736, saving model to BestWeights_epoch6.hdf5\n",
      "7411/7411 [==============================] - 13978s 2s/step - loss: 0.1570 - acc: 0.9361 - val_loss: 0.3589 - val_acc: 0.8774\n",
      "Epoch 2/6\n",
      "4048/4048 [==============================] - 1944s 480ms/step - loss: 0.3173 - acc: 0.8863\n",
      "\n",
      "Epoch 00002: val_acc improved from 0.87736 to 0.88629, saving model to BestWeights_epoch6.hdf5\n",
      "7411/7411 [==============================] - 13415s 2s/step - loss: 0.0755 - acc: 0.9714 - val_loss: 0.3173 - val_acc: 0.8863\n",
      "Epoch 3/6\n",
      "4048/4048 [==============================] - 1861s 460ms/step - loss: 0.3967 - acc: 0.8971\n",
      "\n",
      "Epoch 00003: val_acc improved from 0.88629 to 0.89712, saving model to BestWeights_epoch6.hdf5\n",
      "7411/7411 [==============================] - 13500s 2s/step - loss: 0.0636 - acc: 0.9767 - val_loss: 0.3967 - val_acc: 0.8971\n",
      "Epoch 4/6\n",
      "4048/4048 [==============================] - 1901s 470ms/step - loss: 0.4792 - acc: 0.8687\n",
      "\n",
      "Epoch 00004: val_acc did not improve from 0.89712\n",
      "7411/7411 [==============================] - 13243s 2s/step - loss: 0.0488 - acc: 0.9818 - val_loss: 0.4792 - val_acc: 0.8687\n",
      "Epoch 5/6\n",
      "4048/4048 [==============================] - 2073s 512ms/step - loss: 0.5802 - acc: 0.8827\n",
      "\n",
      "Epoch 00005: ReduceLROnPlateau reducing learning rate to 0.0005000000237487257.\n",
      "\n",
      "Epoch 00005: val_acc did not improve from 0.89712\n",
      "7411/7411 [==============================] - 13681s 2s/step - loss: 0.0642 - acc: 0.9781 - val_loss: 0.5802 - val_acc: 0.8827\n",
      "Epoch 6/6\n",
      "4048/4048 [==============================] - 1958s 484ms/step - loss: 0.5634 - acc: 0.8930\n",
      "\n",
      "Epoch 00006: val_acc did not improve from 0.89712\n",
      "7411/7411 [==============================] - 13720s 2s/step - loss: 0.0275 - acc: 0.9897 - val_loss: 0.5634 - val_acc: 0.8930\n"
     ]
    },
    {
     "data": {
      "image/png": "[encoded data removed]",
      "text/plain": [
       "<Figure size 432x288 with 2 Axes>"
      ]
     },
     "metadata": {
      "needs_background": "light"
     },
     "output_type": "display_data"
    },
    {
     "data": {
      "text/plain": [
       "<Figure size 432x288 with 0 Axes>"
      ]
     },
     "metadata": {},
     "output_type": "display_data"
    }
   ],
   "source": [
    "from tensorflow.keras.utils import multi_gpu_model\n",
    "#from tensorflow.keras.optimizers import SGD\n",
    "#for y in [1,2,3,4,5,6,7,9,14]:\n",
    "for y in [6]:\n",
    "    try:\n",
    "        location=\"BestWeights_epoch\"+str(y)+ \".hdf5\"\n",
    "        checkpointer = ModelCheckpoint(location, monitor='val_acc', verbose=1, save_best_only=True, mode='max')\n",
    "        final_location=[]\n",
    "        location=[]\n",
    "        model= Sequential()\n",
    "        model.add(base_model)\n",
    "    # model.add(Conv2D(512, (3, 3), activation = 'relu'))\n",
    "\n",
    "#         model.add(Conv2D(256, (3, 3), activation = 'relu'))\n",
    "#         #model.add(BatchNormalization(axis=-1, momentum=0.1, epsilon=1e-04))\n",
    "#         #model.add(MaxPooling2D(pool_size = (1, 3)))\n",
    "#         model.add(Flatten())\n",
    "#         model.add(Dense(1024,activation='relu'))\n",
    "#         model.add(Dropout(0.2))\n",
    "#         model.add(Dense(512,activation='relu'))\n",
    "#         model.add(Dropout(0.2))\n",
    "#         model.add(Dense(1, activation='sigmoid'))\n",
    "\n",
    "        model= Sequential()\n",
    "        model.add(base_model)\n",
    "        # model.add(Conv2D(512, (3, 3), activation = 'relu'))\n",
    "\n",
    "        model.add(Conv2D(64, (3, 3), activation = 'relu'))\n",
    "        #model.add(BatchNormalization(axis=-1, momentum=0.1, epsilon=1e-04))\n",
    "        model.add(MaxPooling2D(pool_size = (2, 2)))\n",
    "        model.add(Dropout(0.40))\n",
    "        model.add(Conv2D(64, (2, 2), activation = 'relu'))\n",
    "        #model.add(BatchNormalization(axis=-1, momentum=0.1, epsilon=1e-04))\n",
    "        #model.add(MaxPooling2D(pool_size = (2, 2)))\n",
    "        model.add(Dropout(0.40))\n",
    "        model.add(Flatten())\n",
    "        model.add(Dense(512,activation='relu'))\n",
    "        model.add(Dropout(0.4))\n",
    "        model.add(Dense(1, activation='sigmoid'))\n",
    "        model.summary()\n",
    "        #model.load_weights(\"../../ResNet50 Weights/ResNet50final11.hdf5\")\n",
    "\n",
    "    # model.add(Conv2D(512, (3, 3), activation = 'relu'))\n",
    "\n",
    "\n",
    "\n",
    "        parallel_model = multi_gpu_model(model, gpus=2)\n",
    "        #sgd = SGD(lr=0.01, decay=1e-3, momentum=0.9, nesterov=True)\n",
    "        parallel_model.compile(loss='binary_crossentropy',\n",
    "                               optimizer=Adam(lr=0.001),metrics=[\"accuracy\"])\n",
    "    #model.compile(optimizer=Adam(lr=0.001),loss=\"binary_crossentropy\",metrics=[\"accuracy\"])\n",
    "        history_model=parallel_model.fit_generator(generator=train_data,\n",
    "                                steps_per_epoch=train_data.samples//train_data.batch_size,\n",
    "                                validation_data=val_data,\n",
    "                                verbose=1,\n",
    "                                validation_steps=val_data.samples//val_data.batch_size,\n",
    "                                epochs=y,callbacks=[learning_rate_reduction,LossHistory(),checkpointer])\n",
    "\n",
    "        model.save(\"Xception\"+str(y)+\".hdf5\")\n",
    "        summarize_diagnostics(history_model,y)\n",
    "        loss=history_model.history['loss']\n",
    "        acc=history_model.history['acc']\n",
    "        valacc=history_model.history['val_acc']\n",
    "        valloss=history_model.history['val_loss']\n",
    "        location = [y,loss,acc,valacc, valloss]\n",
    "        final_location.append(location)\n",
    "        save1 = pd.DataFrame(final_location,columns=['epochs','loss','acc','valacc','valloss'])\n",
    "        save1.to_csv('Xception'+str(y)+'.csv')\n",
    "    except Exception as e: \n",
    "        print(e)\n",
    "        continue\n",
    "    \n"
   ]
  },
  {
   "cell_type": "code",
   "execution_count": null,
   "metadata": {},
   "outputs": [],
   "source": []
  },
  {
   "cell_type": "code",
   "execution_count": null,
   "metadata": {},
   "outputs": [
    {
     "name": "stdout",
     "output_type": "stream",
     "text": [
      "WARNING:tensorflow:No training configuration found in save file: the model was *not* compiled. Compile it manually.\n",
      "Epoch 1/4\n",
      "1532/1532 [==============================] - 1363s 890ms/step - loss: 0.6649 - acc: 0.8992\n",
      "1939/1939 [==============================] - 7340s 4s/step - loss: 0.0083 - acc: 0.9971 - val_loss: 0.6649 - val_acc: 0.8992\n",
      "Epoch 2/4\n",
      "1532/1532 [==============================] - 1391s 908ms/step - loss: 0.5557 - acc: 0.9043\n",
      "1939/1939 [==============================] - 7351s 4s/step - loss: 0.0071 - acc: 0.9976 - val_loss: 0.5557 - val_acc: 0.9043\n",
      "Epoch 3/4\n",
      "1532/1532 [==============================] - 1432s 935ms/step - loss: 0.5180 - acc: 0.9022\n",
      "1939/1939 [==============================] - 7621s 4s/step - loss: 0.0065 - acc: 0.9978 - val_loss: 0.5180 - val_acc: 0.9022\n",
      "Epoch 4/4\n",
      " 767/1532 [==============>...............] - ETA: 11:58 - loss: 0.6120 - acc: 0.8880"
     ]
    }
   ],
   "source": [
    "from tensorflow.keras.utils import multi_gpu_model\n",
    "from tensorflow.keras.models import load_model\n",
    "#from tensorflow.keras.optimizers import SGD\n",
    "#for y in [1,2,3,4,5,6,7,9,14]:\n",
    "for y in [4]:\n",
    "    try:\n",
    "        location=\"BestWeights_epoch\"+str(y)+ \".hdf5\"\n",
    "        #checkpointer = ModelCheckpoint(location, monitor='val_acc', verbose=1, save_best_only=True, mode='max')\n",
    "        final_location=[]\n",
    "        location=[]\n",
    "        model= Sequential()\n",
    "        model.add(base_model)\n",
    "    # model.add(Conv2D(512, (3, 3), activation = 'relu'))\n",
    "\n",
    "        model.add(Conv2D(256, (3, 3), activation = 'relu'))\n",
    "        #model.add(BatchNormalization(axis=-1, momentum=0.1, epsilon=1e-04))\n",
    "        #model.add(MaxPooling2D(pool_size = (1, 3)))\n",
    "        model.add(Flatten())\n",
    "        model.add(Dense(1024,activation='relu'))\n",
    "        model.add(Dropout(0.2))\n",
    "        model.add(Dense(512,activation='relu'))\n",
    "        model.add(Dropout(0.2))\n",
    "        model.add(Dense(1, activation='sigmoid'))\n",
    "        model=load_weights(\"Xception\"+str(8)+\".hdf5\")\n",
    "#         model= Sequential()\n",
    "#         model.add(base_model)\n",
    "#         # model.add(Conv2D(512, (3, 3), activation = 'relu'))\n",
    "\n",
    "#         model.add(Conv2D(512, (3, 3), activation = 'relu'))\n",
    "#         #model.add(BatchNormalization(axis=-1, momentum=0.1, epsilon=1e-04))\n",
    "#         model.add(MaxPooling2D(pool_size = (2, 2)))\n",
    "#         model.add(Dropout(0.40))\n",
    "#         model.add(Conv2D(64, (2, 2), activation = 'relu'))\n",
    "#         #model.add(BatchNormalization(axis=-1, momentum=0.1, epsilon=1e-04))\n",
    "#         #model.add(MaxPooling2D(pool_size = (2, 2)))\n",
    "#         model.add(Dropout(0.40))\n",
    "#         model.add(Flatten())\n",
    "#         model.add(Dense(512,activation='relu'))\n",
    "#         model.add(Dropout(0.4))\n",
    "#         model.add(Dense(1, activation='sigmoid'))\n",
    "        #model.load_weights(\"../../ResNet50 Weights/ResNet50final11.hdf5\")\n",
    "\n",
    "    # model.add(Conv2D(512, (3, 3), activation = 'relu'))\n",
    "\n",
    "\n",
    "\n",
    "        parallel_model = multi_gpu_model(model, gpus=2)\n",
    "        #sgd = SGD(lr=0.01, decay=1e-3, momentum=0.9, nesterov=True)\n",
    "        parallel_model.compile(loss='binary_crossentropy',\n",
    "                               optimizer=Adam(lr=0.0002500000118743628),metrics=[\"accuracy\"])\n",
    "    #model.compile(optimizer=Adam(lr=0.001),loss=\"binary_crossentropy\",metrics=[\"accuracy\"])\n",
    "        history_model=parallel_model.fit_generator(generator=train_data,\n",
    "                                steps_per_epoch=train_data.samples//train_data.batch_size,\n",
    "                                validation_data=val_data,\n",
    "                                verbose=1,\n",
    "                                validation_steps=val_data.samples//val_data.batch_size,\n",
    "                                epochs=y,callbacks=[learning_rate_reduction,es])\n",
    "\n",
    "        model.save(\"Xception\"+str(12)+\".hdf5\")\n",
    "        summarize_diagnostics(history_model,y)\n",
    "        loss=history_model.history['loss']\n",
    "        acc=history_model.history['acc']\n",
    "        valacc=history_model.history['val_acc']\n",
    "        valloss=history_model.history['val_loss']\n",
    "        location = [y,loss,acc,valacc, valloss]\n",
    "        final_location.append(location)\n",
    "        save1 = pd.DataFrame(final_location,columns=['epochs','loss','acc','valacc','valloss'])\n",
    "        save1.to_csv('Xception'+str(12)+'.csv')\n",
    "    except Exception as e: \n",
    "        print(e)\n",
    "        continue\n",
    "    "
   ]
  },
  {
   "cell_type": "code",
   "execution_count": 19,
   "metadata": {},
   "outputs": [
    {
     "name": "stdout",
     "output_type": "stream",
     "text": [
      "Epoch 1/6\n",
      "Failed to get convolution algorithm. This is probably because cuDNN failed to initialize, so try looking to see if a warning log message was printed above.\n",
      "\t [[{{node xception_1/block1_conv1/Conv2D}}]]\n",
      "\t [[{{node loss_1/dense_3_loss/broadcast_weights/assert_broadcastable/is_valid_shape/has_valid_nonscalar_shape/has_invalid_dims/ExpandDims_1}}]]\n"
     ]
    }
   ],
   "source": [
    "from tensorflow.keras.utils import multi_gpu_model\n",
    "#for y in [1,2,3,4,5,6,7,9,14]:\n",
    "for y in [6]:\n",
    "    try:\n",
    "        location=\"BestWeights_epoch\"+str(y)+ \".hdf5\"\n",
    "        checkpointer = ModelCheckpoint(location, monitor='val_acc', verbose=1, save_best_only=True, mode='max')\n",
    "        final_location=[]\n",
    "        location=[]\n",
    "        model= Sequential()\n",
    "        model.add(base_model)\n",
    "    # model.add(Conv2D(512, (3, 3), activation = 'relu'))\n",
    "\n",
    "        model.add(Conv2D(64, (3, 3), activation = 'relu'))\n",
    "        #model.add(BatchNormalization(axis=-1, momentum=0.1, epsilon=1e-04))\n",
    "        model.add(MaxPooling2D(pool_size = (3, 3)))\n",
    "        model.add(Flatten())\n",
    "        model.add(Dense(512,activation='relu'))\n",
    "        model.add(Dropout(0.4))\n",
    "        model.add(Dense(1, activation='sigmoid'))\n",
    "#         model.add(Dropout(0.40))\n",
    "#         model.add(Conv2D(64, (3, 3), activation = 'relu'))\n",
    "#         #model.add(BatchNormalization(axis=-1, momentum=0.1, epsilon=1e-04))\n",
    "#         model.add(MaxPooling2D(pool_size = (2, 2)))\n",
    "#         model.add(Dropout(0.40))\n",
    "#         model.add(Flatten())\n",
    "#         model.add(Dense(512,activation='relu'))\n",
    "#         model.add(Dropout(0.4))\n",
    "#         model.add(Dense(1, activation='sigmoid'))\n",
    "        #model.load_weights(\"../../ResNet50 Weights/ResNet50final11.hdf5\")\n",
    "\n",
    "    # model.add(Conv2D(512, (3, 3), activation = 'relu'))\n",
    "\n",
    "\n",
    "\n",
    "        #parallel_model = multi_gpu_model(model, gpus=2)\n",
    "        model.compile(loss='binary_crossentropy',\n",
    "                               optimizer=Adam(lr=0.001),metrics=[\"accuracy\"])\n",
    "    #model.compile(optimizer=Adam(lr=0.001),loss=\"binary_crossentropy\",metrics=[\"accuracy\"])\n",
    "        history_model=model.fit_generator(generator=train_data,\n",
    "                                steps_per_epoch=train_data.samples//train_data.batch_size,\n",
    "                                validation_data=val_data,\n",
    "                                verbose=1,\n",
    "                                validation_steps=val_data.samples//val_data.batch_size,\n",
    "                                epochs=y,callbacks=[learning_rate_reduction,es,checkpointer])\n",
    "\n",
    "        model.save(\"MobileNet\"+str(y)+\".hdf5\")\n",
    "        summarize_diagnostics(history_model,y)\n",
    "        loss=history_model.history['loss']\n",
    "        acc=history_model.history['acc']\n",
    "        valacc=history_model.history['val_acc']\n",
    "        valloss=history_model.history['val_loss']\n",
    "        location = [y,loss,acc,valacc, valloss]\n",
    "        final_location.append(location)\n",
    "        save1 = pd.DataFrame(final_location,columns=['epochs','loss','acc','valacc','valloss'])\n",
    "        save1.to_csv('MobileNet'+str(y)+'.csv')\n",
    "    except Exception as e: \n",
    "        print(e)\n",
    "        continue"
   ]
  },
  {
   "cell_type": "code",
   "execution_count": 20,
   "metadata": {},
   "outputs": [
    {
     "name": "stdout",
     "output_type": "stream",
     "text": [
      "To call `multi_gpu_model` with `gpus=2`, we expect the following devices to be available: ['/cpu:0', '/gpu:0', '/gpu:1']. However this machine only has: ['/cpu:0', '/xla_cpu:0', '/xla_gpu:0', '/gpu:0']. Try reducing `gpus`.\n"
     ]
    }
   ],
   "source": [
    "from tensorflow.keras.utils import multi_gpu_model\n",
    "#for y in [1,2,3,4,5,6,7,9,14]:\n",
    "for y in [6]:\n",
    "    try:\n",
    "        location=\"BestWeights_epoch\"+str(y)+ \".hdf5\"\n",
    "        checkpointer = ModelCheckpoint(location, monitor='val_acc', verbose=1, save_best_only=True, mode='max')\n",
    "        final_location=[]\n",
    "        location=[]\n",
    "        model= Sequential()\n",
    "        model.add(base_model)\n",
    "    # model.add(Conv2D(512, (3, 3), activation = 'relu'))\n",
    "\n",
    "        model.add(Conv2D(64, (3, 3), activation = 'relu'))\n",
    "        #model.add(BatchNormalization(axis=-1, momentum=0.1, epsilon=1e-04))\n",
    "        #model.add(MaxPooling2D(pool_size = (2, 2)))\n",
    "        model.add(Dropout(0.40))\n",
    "        model.add(Conv2D(64, (3, 3), activation = 'relu'))\n",
    "        #model.add(BatchNormalization(axis=-1, momentum=0.1, epsilon=1e-04))\n",
    "        model.add(MaxPooling2D(pool_size = (2, 2)))\n",
    "        model.add(Dropout(0.40))\n",
    "        model.add(Flatten())\n",
    "        model.add(Dense(512,activation='relu'))\n",
    "        model.add(Dropout(0.4))\n",
    "        model.add(Dense(1, activation='sigmoid'))\n",
    "        #model.load_weights(\"../../ResNet50 Weights/ResNet50final11.hdf5\")\n",
    "\n",
    "    # model.add(Conv2D(512, (3, 3), activation = 'relu'))\n",
    "\n",
    "\n",
    "\n",
    "        #parallel_model = multi_gpu_model(model, gpus=2)\n",
    "        model.compile(loss='binary_crossentropy',\n",
    "                               optimizer=Adam(lr=0.001),metrics=[\"accuracy\"])\n",
    "    #model.compile(optimizer=Adam(lr=0.001),loss=\"binary_crossentropy\",metrics=[\"accuracy\"])\n",
    "        history_model=model.fit_generator(generator=train_data,\n",
    "                                steps_per_epoch=train_data.samples//train_data.batch_size,\n",
    "                                validation_data=val_data,\n",
    "                                verbose=1,\n",
    "                                validation_steps=val_data.samples//val_data.batch_size,\n",
    "                                epochs=y,callbacks=[learning_rate_reduction,es,checkpointer])\n",
    "\n",
    "        model.save(\"MobileNet\"+str(y)+\".hdf5\")\n",
    "        summarize_diagnostics(history_model,y)\n",
    "        loss=history_model.history['loss']\n",
    "        acc=history_model.history['acc']\n",
    "        valacc=history_model.history['val_acc']\n",
    "        valloss=history_model.history['val_loss']\n",
    "        location = [y,loss,acc,valacc, valloss]\n",
    "        final_location.append(location)\n",
    "        save1 = pd.DataFrame(final_location,columns=['epochs','loss','acc','valacc','valloss'])\n",
    "        save1.to_csv('MobileNet'+str(y)+'.csv')\n",
    "    except Exception as e: \n",
    "        print(e)\n",
    "        continue"
   ]
  },
  {
   "cell_type": "code",
   "execution_count": null,
   "metadata": {},
   "outputs": [],
   "source": []
  }
 ],
 "metadata": {
  "accelerator": "GPU",
  "colab": {
   "collapsed_sections": [],
   "name": "InceptionV3Own1Arch2.ipynb",
   "provenance": [],
   "version": "0.3.2"
  },
  "kernelspec": {
   "display_name": "Python 3",
   "language": "python",
   "name": "python3"
  },
  "language_info": {
   "codemirror_mode": {
    "name": "ipython",
    "version": 3
   },
   "file_extension": ".py",
   "mimetype": "text/x-python",
   "name": "python",
   "nbconvert_exporter": "python",
   "pygments_lexer": "ipython3",
   "version": "3.5.2"
  }
 },
 "nbformat": 4,
 "nbformat_minor": 1
}
