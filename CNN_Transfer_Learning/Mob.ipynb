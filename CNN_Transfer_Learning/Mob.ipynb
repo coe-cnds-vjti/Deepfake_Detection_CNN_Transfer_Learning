{
 "cells": [
  {
   "cell_type": "code",
   "execution_count": 1,
   "metadata": {
    "colab": {
     "base_uri": "https://localhost:8080/",
     "height": 129
    },
    "colab_type": "code",
    "executionInfo": {
     "elapsed": 42196,
     "status": "ok",
     "timestamp": 1561908311874,
     "user": {
      "displayName": "new guy",
      "photoUrl": "",
      "userId": "03120160726989926836"
     },
     "user_tz": -330
    },
    "id": "ndOM0KpAlfxM",
    "outputId": "cde6bdae-c655-4e21-8d62-705af6d7d341"
   },
   "outputs": [
    {
     "name": "stdout",
     "output_type": "stream",
     "text": [
      "Requirement already satisfied: keras in /usr/local/lib/python3.5/dist-packages (2.3.1)\n",
      "Requirement already satisfied: h5py in /usr/local/lib/python3.5/dist-packages (from keras) (2.9.0)\n",
      "Requirement already satisfied: keras-preprocessing>=1.0.5 in /usr/local/lib/python3.5/dist-packages (from keras) (1.0.5)\n",
      "Requirement already satisfied: scipy>=0.14 in /usr/local/lib/python3.5/dist-packages (from keras) (1.3.0)\n",
      "Requirement already satisfied: numpy>=1.9.1 in /usr/local/lib/python3.5/dist-packages (from keras) (1.14.5)\n",
      "Requirement already satisfied: pyyaml in /usr/local/lib/python3.5/dist-packages (from keras) (5.3)\n",
      "Requirement already satisfied: six>=1.9.0 in /usr/local/lib/python3.5/dist-packages (from keras) (1.12.0)\n",
      "Requirement already satisfied: keras-applications>=1.0.6 in /usr/local/lib/python3.5/dist-packages (from keras) (1.0.6)\n",
      "\u001b[33mWARNING: You are using pip version 19.1.1, however version 20.0.2 is available.\n",
      "You should consider upgrading via the 'pip install --upgrade pip' command.\u001b[0m\n"
     ]
    }
   ],
   "source": [
    "!pip install keras"
   ]
  },
  {
   "cell_type": "code",
   "execution_count": 2,
   "metadata": {
    "colab": {},
    "colab_type": "code",
    "id": "hmH50ibX9KQ7"
   },
   "outputs": [
    {
     "name": "stderr",
     "output_type": "stream",
     "text": [
      "Using TensorFlow backend.\n"
     ]
    }
   ],
   "source": [
    "import tensorflow as tf\n",
    "import keras.backend.tensorflow_backend as ktf\n",
    "\n",
    "\n",
    "def get_session(gpu_fraction=0.8):\n",
    "    gpu_options = tf.GPUOptions(per_process_gpu_memory_fraction=gpu_fraction,\n",
    "                                allow_growth=True)\n",
    "    return tf.Session(config=tf.ConfigProto(gpu_options=gpu_options))\n",
    "\n",
    "\n",
    "ktf.set_session(get_session())"
   ]
  },
  {
   "cell_type": "code",
   "execution_count": 3,
   "metadata": {
    "colab": {
     "base_uri": "https://localhost:8080/",
     "height": 35
    },
    "colab_type": "code",
    "executionInfo": {
     "elapsed": 5056,
     "status": "ok",
     "timestamp": 1561919672504,
     "user": {
      "displayName": "new guy",
      "photoUrl": "",
      "userId": "03120160726989926836"
     },
     "user_tz": -330
    },
    "id": "tk28xpFxnAqa",
    "outputId": "526d266c-5750-42ff-af3b-67bb20b4596c"
   },
   "outputs": [],
   "source": [
    "import pandas as pd\n",
    "import numpy as np\n",
    "from tensorflow.keras.models import Sequential\n",
    "from tensorflow.keras.layers import Dense, Conv2D, Dropout, Flatten, MaxPooling2D\n",
    "#from tensorflow.keras.applications import ResNet101V2\n",
    "from tensorflow.keras.applications import MobileNet\n",
    "#from tensorflow.keras import optimizers\n",
    "from tensorflow.keras.optimizers import Adam as Adam"
   ]
  },
  {
   "cell_type": "code",
   "execution_count": 4,
   "metadata": {
    "colab": {
     "base_uri": "https://localhost:8080/",
     "height": 547
    },
    "colab_type": "code",
    "executionInfo": {
     "elapsed": 7681,
     "status": "error",
     "timestamp": 1561919675705,
     "user": {
      "displayName": "new guy",
      "photoUrl": "",
      "userId": "03120160726989926836"
     },
     "user_tz": -330
    },
    "id": "2oj9WnXOlt_C",
    "outputId": "36f3e405-6019-4ddb-a106-d898a5284ec3"
   },
   "outputs": [
    {
     "name": "stdout",
     "output_type": "stream",
     "text": [
      "WARNING:tensorflow:From /usr/local/lib/python3.5/dist-packages/tensorflow/python/ops/resource_variable_ops.py:435: colocate_with (from tensorflow.python.framework.ops) is deprecated and will be removed in a future version.\n",
      "Instructions for updating:\n",
      "Colocations handled automatically by placer.\n"
     ]
    }
   ],
   "source": [
    "base_model=MobileNet(include_top=False, weights='../mobilenet_1_0_224_tf_no_top.h5', input_shape=(224,224,3))"
   ]
  },
  {
   "cell_type": "code",
   "execution_count": 5,
   "metadata": {},
   "outputs": [
    {
     "name": "stdout",
     "output_type": "stream",
     "text": [
      "_________________________________________________________________\n",
      "Layer (type)                 Output Shape              Param #   \n",
      "=================================================================\n",
      "input_1 (InputLayer)         (None, 224, 224, 3)       0         \n",
      "_________________________________________________________________\n",
      "conv1_pad (ZeroPadding2D)    (None, 225, 225, 3)       0         \n",
      "_________________________________________________________________\n",
      "conv1 (Conv2D)               (None, 112, 112, 32)      864       \n",
      "_________________________________________________________________\n",
      "conv1_bn (BatchNormalization (None, 112, 112, 32)      128       \n",
      "_________________________________________________________________\n",
      "conv1_relu (ReLU)            (None, 112, 112, 32)      0         \n",
      "_________________________________________________________________\n",
      "conv_dw_1 (DepthwiseConv2D)  (None, 112, 112, 32)      288       \n",
      "_________________________________________________________________\n",
      "conv_dw_1_bn (BatchNormaliza (None, 112, 112, 32)      128       \n",
      "_________________________________________________________________\n",
      "conv_dw_1_relu (ReLU)        (None, 112, 112, 32)      0         \n",
      "_________________________________________________________________\n",
      "conv_pw_1 (Conv2D)           (None, 112, 112, 64)      2048      \n",
      "_________________________________________________________________\n",
      "conv_pw_1_bn (BatchNormaliza (None, 112, 112, 64)      256       \n",
      "_________________________________________________________________\n",
      "conv_pw_1_relu (ReLU)        (None, 112, 112, 64)      0         \n",
      "_________________________________________________________________\n",
      "conv_pad_2 (ZeroPadding2D)   (None, 113, 113, 64)      0         \n",
      "_________________________________________________________________\n",
      "conv_dw_2 (DepthwiseConv2D)  (None, 56, 56, 64)        576       \n",
      "_________________________________________________________________\n",
      "conv_dw_2_bn (BatchNormaliza (None, 56, 56, 64)        256       \n",
      "_________________________________________________________________\n",
      "conv_dw_2_relu (ReLU)        (None, 56, 56, 64)        0         \n",
      "_________________________________________________________________\n",
      "conv_pw_2 (Conv2D)           (None, 56, 56, 128)       8192      \n",
      "_________________________________________________________________\n",
      "conv_pw_2_bn (BatchNormaliza (None, 56, 56, 128)       512       \n",
      "_________________________________________________________________\n",
      "conv_pw_2_relu (ReLU)        (None, 56, 56, 128)       0         \n",
      "_________________________________________________________________\n",
      "conv_dw_3 (DepthwiseConv2D)  (None, 56, 56, 128)       1152      \n",
      "_________________________________________________________________\n",
      "conv_dw_3_bn (BatchNormaliza (None, 56, 56, 128)       512       \n",
      "_________________________________________________________________\n",
      "conv_dw_3_relu (ReLU)        (None, 56, 56, 128)       0         \n",
      "_________________________________________________________________\n",
      "conv_pw_3 (Conv2D)           (None, 56, 56, 128)       16384     \n",
      "_________________________________________________________________\n",
      "conv_pw_3_bn (BatchNormaliza (None, 56, 56, 128)       512       \n",
      "_________________________________________________________________\n",
      "conv_pw_3_relu (ReLU)        (None, 56, 56, 128)       0         \n",
      "_________________________________________________________________\n",
      "conv_pad_4 (ZeroPadding2D)   (None, 57, 57, 128)       0         \n",
      "_________________________________________________________________\n",
      "conv_dw_4 (DepthwiseConv2D)  (None, 28, 28, 128)       1152      \n",
      "_________________________________________________________________\n",
      "conv_dw_4_bn (BatchNormaliza (None, 28, 28, 128)       512       \n",
      "_________________________________________________________________\n",
      "conv_dw_4_relu (ReLU)        (None, 28, 28, 128)       0         \n",
      "_________________________________________________________________\n",
      "conv_pw_4 (Conv2D)           (None, 28, 28, 256)       32768     \n",
      "_________________________________________________________________\n",
      "conv_pw_4_bn (BatchNormaliza (None, 28, 28, 256)       1024      \n",
      "_________________________________________________________________\n",
      "conv_pw_4_relu (ReLU)        (None, 28, 28, 256)       0         \n",
      "_________________________________________________________________\n",
      "conv_dw_5 (DepthwiseConv2D)  (None, 28, 28, 256)       2304      \n",
      "_________________________________________________________________\n",
      "conv_dw_5_bn (BatchNormaliza (None, 28, 28, 256)       1024      \n",
      "_________________________________________________________________\n",
      "conv_dw_5_relu (ReLU)        (None, 28, 28, 256)       0         \n",
      "_________________________________________________________________\n",
      "conv_pw_5 (Conv2D)           (None, 28, 28, 256)       65536     \n",
      "_________________________________________________________________\n",
      "conv_pw_5_bn (BatchNormaliza (None, 28, 28, 256)       1024      \n",
      "_________________________________________________________________\n",
      "conv_pw_5_relu (ReLU)        (None, 28, 28, 256)       0         \n",
      "_________________________________________________________________\n",
      "conv_pad_6 (ZeroPadding2D)   (None, 29, 29, 256)       0         \n",
      "_________________________________________________________________\n",
      "conv_dw_6 (DepthwiseConv2D)  (None, 14, 14, 256)       2304      \n",
      "_________________________________________________________________\n",
      "conv_dw_6_bn (BatchNormaliza (None, 14, 14, 256)       1024      \n",
      "_________________________________________________________________\n",
      "conv_dw_6_relu (ReLU)        (None, 14, 14, 256)       0         \n",
      "_________________________________________________________________\n",
      "conv_pw_6 (Conv2D)           (None, 14, 14, 512)       131072    \n",
      "_________________________________________________________________\n",
      "conv_pw_6_bn (BatchNormaliza (None, 14, 14, 512)       2048      \n",
      "_________________________________________________________________\n",
      "conv_pw_6_relu (ReLU)        (None, 14, 14, 512)       0         \n",
      "_________________________________________________________________\n",
      "conv_dw_7 (DepthwiseConv2D)  (None, 14, 14, 512)       4608      \n",
      "_________________________________________________________________\n",
      "conv_dw_7_bn (BatchNormaliza (None, 14, 14, 512)       2048      \n",
      "_________________________________________________________________\n",
      "conv_dw_7_relu (ReLU)        (None, 14, 14, 512)       0         \n",
      "_________________________________________________________________\n",
      "conv_pw_7 (Conv2D)           (None, 14, 14, 512)       262144    \n",
      "_________________________________________________________________\n",
      "conv_pw_7_bn (BatchNormaliza (None, 14, 14, 512)       2048      \n",
      "_________________________________________________________________\n",
      "conv_pw_7_relu (ReLU)        (None, 14, 14, 512)       0         \n",
      "_________________________________________________________________\n",
      "conv_dw_8 (DepthwiseConv2D)  (None, 14, 14, 512)       4608      \n",
      "_________________________________________________________________\n",
      "conv_dw_8_bn (BatchNormaliza (None, 14, 14, 512)       2048      \n",
      "_________________________________________________________________\n",
      "conv_dw_8_relu (ReLU)        (None, 14, 14, 512)       0         \n",
      "_________________________________________________________________\n",
      "conv_pw_8 (Conv2D)           (None, 14, 14, 512)       262144    \n",
      "_________________________________________________________________\n",
      "conv_pw_8_bn (BatchNormaliza (None, 14, 14, 512)       2048      \n",
      "_________________________________________________________________\n",
      "conv_pw_8_relu (ReLU)        (None, 14, 14, 512)       0         \n",
      "_________________________________________________________________\n",
      "conv_dw_9 (DepthwiseConv2D)  (None, 14, 14, 512)       4608      \n",
      "_________________________________________________________________\n",
      "conv_dw_9_bn (BatchNormaliza (None, 14, 14, 512)       2048      \n",
      "_________________________________________________________________\n",
      "conv_dw_9_relu (ReLU)        (None, 14, 14, 512)       0         \n",
      "_________________________________________________________________\n",
      "conv_pw_9 (Conv2D)           (None, 14, 14, 512)       262144    \n",
      "_________________________________________________________________\n",
      "conv_pw_9_bn (BatchNormaliza (None, 14, 14, 512)       2048      \n",
      "_________________________________________________________________\n",
      "conv_pw_9_relu (ReLU)        (None, 14, 14, 512)       0         \n",
      "_________________________________________________________________\n",
      "conv_dw_10 (DepthwiseConv2D) (None, 14, 14, 512)       4608      \n",
      "_________________________________________________________________\n",
      "conv_dw_10_bn (BatchNormaliz (None, 14, 14, 512)       2048      \n",
      "_________________________________________________________________\n",
      "conv_dw_10_relu (ReLU)       (None, 14, 14, 512)       0         \n",
      "_________________________________________________________________\n",
      "conv_pw_10 (Conv2D)          (None, 14, 14, 512)       262144    \n",
      "_________________________________________________________________\n",
      "conv_pw_10_bn (BatchNormaliz (None, 14, 14, 512)       2048      \n",
      "_________________________________________________________________\n",
      "conv_pw_10_relu (ReLU)       (None, 14, 14, 512)       0         \n",
      "_________________________________________________________________\n",
      "conv_dw_11 (DepthwiseConv2D) (None, 14, 14, 512)       4608      \n",
      "_________________________________________________________________\n",
      "conv_dw_11_bn (BatchNormaliz (None, 14, 14, 512)       2048      \n",
      "_________________________________________________________________\n",
      "conv_dw_11_relu (ReLU)       (None, 14, 14, 512)       0         \n",
      "_________________________________________________________________\n",
      "conv_pw_11 (Conv2D)          (None, 14, 14, 512)       262144    \n",
      "_________________________________________________________________\n",
      "conv_pw_11_bn (BatchNormaliz (None, 14, 14, 512)       2048      \n",
      "_________________________________________________________________\n",
      "conv_pw_11_relu (ReLU)       (None, 14, 14, 512)       0         \n",
      "_________________________________________________________________\n",
      "conv_pad_12 (ZeroPadding2D)  (None, 15, 15, 512)       0         \n",
      "_________________________________________________________________\n",
      "conv_dw_12 (DepthwiseConv2D) (None, 7, 7, 512)         4608      \n",
      "_________________________________________________________________\n",
      "conv_dw_12_bn (BatchNormaliz (None, 7, 7, 512)         2048      \n",
      "_________________________________________________________________\n",
      "conv_dw_12_relu (ReLU)       (None, 7, 7, 512)         0         \n",
      "_________________________________________________________________\n",
      "conv_pw_12 (Conv2D)          (None, 7, 7, 1024)        524288    \n",
      "_________________________________________________________________\n",
      "conv_pw_12_bn (BatchNormaliz (None, 7, 7, 1024)        4096      \n",
      "_________________________________________________________________\n",
      "conv_pw_12_relu (ReLU)       (None, 7, 7, 1024)        0         \n",
      "_________________________________________________________________\n",
      "conv_dw_13 (DepthwiseConv2D) (None, 7, 7, 1024)        9216      \n",
      "_________________________________________________________________\n",
      "conv_dw_13_bn (BatchNormaliz (None, 7, 7, 1024)        4096      \n",
      "_________________________________________________________________\n",
      "conv_dw_13_relu (ReLU)       (None, 7, 7, 1024)        0         \n",
      "_________________________________________________________________\n",
      "conv_pw_13 (Conv2D)          (None, 7, 7, 1024)        1048576   \n",
      "_________________________________________________________________\n",
      "conv_pw_13_bn (BatchNormaliz (None, 7, 7, 1024)        4096      \n",
      "_________________________________________________________________\n",
      "conv_pw_13_relu (ReLU)       (None, 7, 7, 1024)        0         \n",
      "=================================================================\n",
      "Total params: 3,228,864\n",
      "Trainable params: 3,206,976\n",
      "Non-trainable params: 21,888\n",
      "_________________________________________________________________\n"
     ]
    }
   ],
   "source": [
    "base_model.summary()"
   ]
  },
  {
   "cell_type": "code",
   "execution_count": 5,
   "metadata": {
    "colab": {},
    "colab_type": "code",
    "id": "L_ykdl9qmEDo"
   },
   "outputs": [],
   "source": [
    "from tensorflow.keras.layers import Convolution2D\n",
    "from tensorflow.keras.layers import MaxPooling2D\n",
    "from tensorflow.keras.layers import Flatten\n",
    "from tensorflow.keras.layers import Dense\n",
    "from tensorflow.keras.layers import BatchNormalization \n",
    "from tensorflow.keras.layers import Dropout\n",
    "# model= Sequential()\n",
    "# model.add(base_model)\n",
    "# model.add(Conv2D(64, (3, 3), activation = 'relu'))\n",
    "# model.add(BatchNormalization(axis=-1, momentum=0.1, epsilon=1e-04))\n",
    "# #model.add(MaxPooling2D(pool_size = (2, 2)))\n",
    "# model.add(Dropout(0.30))\n",
    "# model.add(Conv2D(64, (3, 3), activation = 'relu'))\n",
    "# model.add(BatchNormalization(axis=-1, momentum=0.1, epsilon=1e-04))\n",
    "# model.add(MaxPooling2D(pool_size = (2, 2)))\n",
    "# model.add(Dropout(0.30))\n",
    "# model.add(Flatten())\n",
    "\n",
    "# model.add(Dense(1, activation='sigmoid'))\n"
   ]
  },
  {
   "cell_type": "code",
   "execution_count": 6,
   "metadata": {},
   "outputs": [],
   "source": [
    "#model.load_weights(\"../../ResNet50 Weights/ResNet50final11.hdf5\")"
   ]
  },
  {
   "cell_type": "code",
   "execution_count": 7,
   "metadata": {
    "colab": {},
    "colab_type": "code",
    "id": "2B5VHMq-mb_F"
   },
   "outputs": [],
   "source": [
    "from tensorflow.keras import optimizers\n",
    "from keras_preprocessing.image import ImageDataGenerator\n",
    "train_generator = ImageDataGenerator(rescale = 1./255,\n",
    "                                     rotation_range=10,  \n",
    "                                     zoom_range = 0.1, \n",
    "                                     width_shift_range=0.2,  height_shift_range=0.2) "
   ]
  },
  {
   "cell_type": "code",
   "execution_count": 8,
   "metadata": {
    "colab": {
     "base_uri": "https://localhost:8080/",
     "height": 92
    },
    "colab_type": "code",
    "executionInfo": {
     "elapsed": 57298,
     "status": "ok",
     "timestamp": 1561908385668,
     "user": {
      "displayName": "new guy",
      "photoUrl": "",
      "userId": "03120160726989926836"
     },
     "user_tz": -330
    },
    "id": "DJ7QCh67mfJF",
    "outputId": "8c5292e9-54b8-48a6-fb2d-0c233211a1b9"
   },
   "outputs": [
    {
     "name": "stdout",
     "output_type": "stream",
     "text": [
      "Found 948603 images belonging to 2 classes.\n"
     ]
    }
   ],
   "source": [
    "train_data= train_generator.flow_from_directory(\n",
    "                                                batch_size=256,directory=\"/raid/Data/Master_Dataset/elvin/final_mix/train/\",\n",
    "                                                shuffle=True,class_mode=\"binary\",target_size=(224,224))"
   ]
  },
  {
   "cell_type": "code",
   "execution_count": 9,
   "metadata": {},
   "outputs": [
    {
     "data": {
      "text/plain": [
       "{'fake': 0, 'real': 1}"
      ]
     },
     "execution_count": 9,
     "metadata": {},
     "output_type": "execute_result"
    }
   ],
   "source": [
    "train_data.class_indices"
   ]
  },
  {
   "cell_type": "code",
   "execution_count": 10,
   "metadata": {
    "colab": {},
    "colab_type": "code",
    "id": "A5GFfxtomjhZ"
   },
   "outputs": [],
   "source": [
    "test_generator=ImageDataGenerator(rescale = 1./255)"
   ]
  },
  {
   "cell_type": "code",
   "execution_count": 11,
   "metadata": {
    "colab": {
     "base_uri": "https://localhost:8080/",
     "height": 35
    },
    "colab_type": "code",
    "executionInfo": {
     "elapsed": 56449,
     "status": "ok",
     "timestamp": 1561908388015,
     "user": {
      "displayName": "new guy",
      "photoUrl": "",
      "userId": "03120160726989926836"
     },
     "user_tz": -330
    },
    "id": "nStpDSfDmm1N",
    "outputId": "19aaeda6-0f55-4855-b8b3-4fe268fa0cba"
   },
   "outputs": [
    {
     "name": "stdout",
     "output_type": "stream",
     "text": [
      "Found 518144 images belonging to 2 classes.\n"
     ]
    }
   ],
   "source": [
    "val_data= test_generator.flow_from_directory(\n",
    "                                              directory=\"/raid/Data/Master_Dataset/elvin/final_mix/validation/\",\n",
    "                                              shuffle=True,batch_size=256,class_mode=\"binary\",target_size=(224,224))"
   ]
  },
  {
   "cell_type": "code",
   "execution_count": 12,
   "metadata": {
    "colab": {},
    "colab_type": "code",
    "id": "nRDW75QQmr2k"
   },
   "outputs": [],
   "source": [
    "from tensorflow.keras.callbacks import ReduceLROnPlateau,ModelCheckpoint\n",
    "\n",
    "learning_rate_reduction = ReduceLROnPlateau(monitor='val_acc', patience=2, verbose=1, factor=.5, min_lr=0.0001)"
   ]
  },
  {
   "cell_type": "code",
   "execution_count": 13,
   "metadata": {},
   "outputs": [],
   "source": [
    "from tensorflow.keras.callbacks import EarlyStopping\n",
    "\n",
    "es = EarlyStopping(monitor='val_loss', mode='min', verbose=1, patience=5)"
   ]
  },
  {
   "cell_type": "code",
   "execution_count": 14,
   "metadata": {},
   "outputs": [],
   "source": [
    "from tensorflow.keras.utils import multi_gpu_model"
   ]
  },
  {
   "cell_type": "code",
   "execution_count": 15,
   "metadata": {
    "colab": {
     "base_uri": "https://localhost:8080/",
     "height": 1000
    },
    "colab_type": "code",
    "executionInfo": {
     "elapsed": 5166449,
     "status": "ok",
     "timestamp": 1561915317414,
     "user": {
      "displayName": "new guy",
      "photoUrl": "",
      "userId": "03120160726989926836"
     },
     "user_tz": -330
    },
    "id": "g8AZIYZ2myZr",
    "outputId": "27d218e5-c794-4705-b86f-df11b40eb0dc"
   },
   "outputs": [],
   "source": [
    "# parallel_model = multi_gpu_model(model, gpus=3)\n",
    "# parallel_model.compile(loss='binary_crossentropy',\n",
    "#                            optimizer=Adam(lr=0.001),metrics=[\"accuracy\"])\n",
    "# #model.compile(optimizer=Adam(lr=0.001),loss=\"binary_crossentropy\",metrics=[\"accuracy\"])\n",
    "# parallel_model.fit_generator(generator=train_data,\n",
    "#                             steps_per_epoch=train_data.samples//train_data.batch_size,\n",
    "#                             validation_data=val_data,\n",
    "#                             verbose=1,\n",
    "#                             validation_steps=val_data.samples//val_data.batch_size,\n",
    "#                             epochs=3,callbacks=[learning_rate_reduction])"
   ]
  },
  {
   "cell_type": "code",
   "execution_count": 15,
   "metadata": {},
   "outputs": [],
   "source": [
    "from matplotlib import pyplot\n",
    "import sys"
   ]
  },
  {
   "cell_type": "code",
   "execution_count": 16,
   "metadata": {},
   "outputs": [],
   "source": [
    "def summarize_diagnostics(history,epoch):\n",
    "    # plot loss\n",
    "    pyplot.subplot(121)\n",
    "    pyplot.title('Cross Entropy Loss')\n",
    "    pyplot.plot(history.history['loss'], color='blue', label='train')\n",
    "    pyplot.plot(history.history['val_loss'], color='orange', label='test')\n",
    "    pyplot.ylabel('Loss')\n",
    "    pyplot.xlabel('Epochs')\n",
    "\n",
    "    # plot accuracy\n",
    "    pyplot.subplot(122)\n",
    "    pyplot.title('Classification Accuracy')\n",
    "    pyplot.plot(history.history['acc'], color='blue', label='train')\n",
    "    pyplot.plot(history.history['val_acc'], color='orange', label='test')\n",
    "    pyplot.ylabel('Accuracy')\n",
    "    pyplot.xlabel('Epochs')\n",
    "\n",
    "    pyplot.subplots_adjust(top=0.92, bottom=0.2, left=0.0, right=2.5, hspace=0.25,\n",
    "                    wspace=0.25)\n",
    "    pyplot.show()    \n",
    "\n",
    "\n",
    "    #     pyplot.subplot(213)\n",
    "    # \tpyplot.title('Classification Accuracy')\n",
    "    # \tpyplot.plot(history.history['accuracy'], color='blue', label='train')\n",
    "    # \tpyplot.plot(history.history['val_accuracy'], color='orange', label='test')\n",
    "    # save plot to file\n",
    "    filename = sys.argv[0].split('/')[-1]\n",
    "    pyplot.savefig(filename +'MobileNet'+str(epoch)+ '_plot.png')"
   ]
  },
  {
   "cell_type": "code",
   "execution_count": 18,
   "metadata": {},
   "outputs": [
    {
     "name": "stdout",
     "output_type": "stream",
     "text": [
      "WARNING:tensorflow:From /usr/local/lib/python3.5/dist-packages/tensorflow/python/keras/layers/core.py:143: calling dropout (from tensorflow.python.ops.nn_ops) with keep_prob is deprecated and will be removed in a future version.\n",
      "Instructions for updating:\n",
      "Please use `rate` instead of `keep_prob`. Rate should be set to `rate = 1 - keep_prob`.\n",
      "WARNING:tensorflow:From /usr/local/lib/python3.5/dist-packages/tensorflow/python/ops/math_ops.py:3066: to_int32 (from tensorflow.python.ops.math_ops) is deprecated and will be removed in a future version.\n",
      "Instructions for updating:\n",
      "Use tf.cast instead.\n",
      "Epoch 1/2\n",
      "2024/2024 [==============================] - 2090s 1s/step - loss: 0.3596 - acc: 0.8313\n",
      "3706/3706 [==============================] - 14385s 4s/step - loss: 0.1654 - acc: 0.9309 - val_loss: 0.3596 - val_acc: 0.8313\n",
      "Epoch 2/2\n",
      "2024/2024 [==============================] - 1989s 983ms/step - loss: 0.2891 - acc: 0.8767\n",
      "3706/3706 [==============================] - 14380s 4s/step - loss: 0.0868 - acc: 0.9667 - val_loss: 0.2891 - val_acc: 0.8767\n"
     ]
    },
    {
     "data": {
      "image/png": "[encoded data removed]",
      "text/plain": [
       "<Figure size 432x288 with 2 Axes>"
      ]
     },
     "metadata": {
      "needs_background": "light"
     },
     "output_type": "display_data"
    },
    {
     "data": {
      "text/plain": [
       "<Figure size 432x288 with 0 Axes>"
      ]
     },
     "metadata": {},
     "output_type": "display_data"
    }
   ],
   "source": [
    "from tensorflow.keras.utils import multi_gpu_model\n",
    "#for y in [1,2,3,4,5,6,7,9,14]:\n",
    "for y in [2]:\n",
    "    try:\n",
    "        location=\"BestWeights_epoch\"+str(y)+ \".hdf5\"\n",
    "        #checkpointer = ModelCheckpoint(location, monitor='val_acc', verbose=1, save_best_only=True, mode='max')\n",
    "        final_location=[]\n",
    "        location=[]\n",
    "        model= Sequential()\n",
    "        model.add(base_model)\n",
    "    # model.add(Conv2D(512, (3, 3), activation = 'relu'))\n",
    "\n",
    "        model.add(Conv2D(64, (3, 3), activation = 'relu'))\n",
    "        #model.add(BatchNormalization(axis=-1, momentum=0.1, epsilon=1e-04))\n",
    "        #model.add(MaxPooling2D(pool_size = (2, 2)))\n",
    "        model.add(Dropout(0.40))\n",
    "        model.add(Conv2D(64, (3, 3), activation = 'relu'))\n",
    "        #model.add(BatchNormalization(axis=-1, momentum=0.1, epsilon=1e-04))\n",
    "        model.add(MaxPooling2D(pool_size = (2, 2)))\n",
    "        model.add(Dropout(0.40))\n",
    "        model.add(Flatten())\n",
    "        model.add(Dense(512,activation='relu'))\n",
    "        model.add(Dropout(0.4))\n",
    "        model.add(Dense(1, activation='sigmoid'))\n",
    "        #model.load_weights(\"../../ResNet50 Weights/ResNet50final11.hdf5\")\n",
    "\n",
    "    # model.add(Conv2D(512, (3, 3), activation = 'relu'))\n",
    "\n",
    "\n",
    "\n",
    "        #parallel_model = multi_gpu_model(model, gpus=2)\n",
    "        model.compile(loss='binary_crossentropy',\n",
    "                               optimizer=Adam(lr=0.001),metrics=[\"accuracy\"])\n",
    "    #model.compile(optimizer=Adam(lr=0.001),loss=\"binary_crossentropy\",metrics=[\"accuracy\"])\n",
    "        history_model=model.fit_generator(generator=train_data,\n",
    "                                steps_per_epoch=train_data.samples//train_data.batch_size,\n",
    "                                validation_data=val_data,\n",
    "                                verbose=1,\n",
    "                                validation_steps=val_data.samples//val_data.batch_size,\n",
    "                                epochs=y,callbacks=[learning_rate_reduction,es])\n",
    "\n",
    "        model.save(\"MobileNet\"+str(y)+\".hdf5\")\n",
    "        summarize_diagnostics(history_model,y)\n",
    "        loss=history_model.history['loss']\n",
    "        acc=history_model.history['acc']\n",
    "        valacc=history_model.history['val_acc']\n",
    "        valloss=history_model.history['val_loss']\n",
    "        location = [y,loss,acc,valacc, valloss]\n",
    "        final_location.append(location)\n",
    "        save1 = pd.DataFrame(final_location,columns=['epochs','loss','acc','valacc','valloss'])\n",
    "        save1.to_csv('MobileNet'+str(y)+'.csv')\n",
    "    except Exception as e: \n",
    "        print(e)\n",
    "        continue\n",
    "    \n"
   ]
  },
  {
   "cell_type": "code",
   "execution_count": 17,
   "metadata": {},
   "outputs": [
    {
     "name": "stdout",
     "output_type": "stream",
     "text": [
      "WARNING:tensorflow:From /usr/local/lib/python3.5/dist-packages/tensorflow/python/keras/layers/core.py:143: calling dropout (from tensorflow.python.ops.nn_ops) with keep_prob is deprecated and will be removed in a future version.\n",
      "Instructions for updating:\n",
      "Please use `rate` instead of `keep_prob`. Rate should be set to `rate = 1 - keep_prob`.\n",
      "WARNING:tensorflow:From /usr/local/lib/python3.5/dist-packages/tensorflow/python/ops/math_ops.py:3066: to_int32 (from tensorflow.python.ops.math_ops) is deprecated and will be removed in a future version.\n",
      "Instructions for updating:\n",
      "Use tf.cast instead.\n",
      "Epoch 1/4\n",
      "2024/2024 [==============================] - 1965s 971ms/step - loss: 0.4697 - acc: 0.7776\n",
      "\n",
      "Epoch 00001: val_acc improved from -inf to 0.77761, saving model to BestWeights_epoch4.hdf5\n",
      "3706/3706 [==============================] - 13380s 4s/step - loss: 0.1648 - acc: 0.9311 - val_loss: 0.4697 - val_acc: 0.7776\n",
      "Epoch 2/4\n",
      "2024/2024 [==============================] - 1877s 928ms/step - loss: 0.4768 - acc: 0.8366\n",
      "\n",
      "Epoch 00002: val_acc improved from 0.77761 to 0.83662, saving model to BestWeights_epoch4.hdf5\n",
      "3706/3706 [==============================] - 13302s 4s/step - loss: 0.0865 - acc: 0.9666 - val_loss: 0.4768 - val_acc: 0.8366\n",
      "Epoch 3/4\n",
      "2024/2024 [==============================] - 1799s 889ms/step - loss: 0.3002 - acc: 0.8687\n",
      "\n",
      "Epoch 00003: val_acc improved from 0.83662 to 0.86873, saving model to BestWeights_epoch4.hdf5\n",
      "3706/3706 [==============================] - 12892s 3s/step - loss: 0.0688 - acc: 0.9736 - val_loss: 0.3002 - val_acc: 0.8687\n",
      "Epoch 4/4\n",
      "2024/2024 [==============================] - 1740s 860ms/step - loss: 0.3461 - acc: 0.8796\n",
      "\n",
      "Epoch 00004: val_acc improved from 0.86873 to 0.87962, saving model to BestWeights_epoch4.hdf5\n",
      "3706/3706 [==============================] - 12011s 3s/step - loss: 0.0576 - acc: 0.9781 - val_loss: 0.3461 - val_acc: 0.8796\n"
     ]
    },
    {
     "data": {
      "image/png": "[encoded data removed]",
      "text/plain": [
       "<Figure size 432x288 with 2 Axes>"
      ]
     },
     "metadata": {
      "needs_background": "light"
     },
     "output_type": "display_data"
    },
    {
     "data": {
      "text/plain": [
       "<Figure size 432x288 with 0 Axes>"
      ]
     },
     "metadata": {},
     "output_type": "display_data"
    }
   ],
   "source": [
    "from tensorflow.keras.utils import multi_gpu_model\n",
    "#for y in [1,2,3,4,5,6,7,9,14]:\n",
    "for y in [4]:\n",
    "    try:\n",
    "        location=\"BestWeights_epoch\"+str(y)+ \".hdf5\"\n",
    "        checkpointer = ModelCheckpoint(location, monitor='val_acc', verbose=1, save_best_only=True, mode='max')\n",
    "        final_location=[]\n",
    "        location=[]\n",
    "        model= Sequential()\n",
    "        model.add(base_model)\n",
    "    # model.add(Conv2D(512, (3, 3), activation = 'relu'))\n",
    "\n",
    "        model.add(Conv2D(64, (3, 3), activation = 'relu'))\n",
    "        #model.add(BatchNormalization(axis=-1, momentum=0.1, epsilon=1e-04))\n",
    "        #model.add(MaxPooling2D(pool_size = (2, 2)))\n",
    "        model.add(Dropout(0.40))\n",
    "        model.add(Conv2D(64, (3, 3), activation = 'relu'))\n",
    "        #model.add(BatchNormalization(axis=-1, momentum=0.1, epsilon=1e-04))\n",
    "        model.add(MaxPooling2D(pool_size = (2, 2)))\n",
    "        model.add(Dropout(0.40))\n",
    "        model.add(Flatten())\n",
    "        model.add(Dense(512,activation='relu'))\n",
    "        model.add(Dropout(0.4))\n",
    "        model.add(Dense(1, activation='sigmoid'))\n",
    "        #model.load_weights(\"../../ResNet50 Weights/ResNet50final11.hdf5\")\n",
    "\n",
    "    # model.add(Conv2D(512, (3, 3), activation = 'relu'))\n",
    "\n",
    "\n",
    "\n",
    "        #parallel_model = multi_gpu_model(model, gpus=2)\n",
    "        model.compile(loss='binary_crossentropy',\n",
    "                               optimizer=Adam(lr=0.001),metrics=[\"accuracy\"])\n",
    "    #model.compile(optimizer=Adam(lr=0.001),loss=\"binary_crossentropy\",metrics=[\"accuracy\"])\n",
    "        history_model=model.fit_generator(generator=train_data,\n",
    "                                steps_per_epoch=train_data.samples//train_data.batch_size,\n",
    "                                validation_data=val_data,\n",
    "                                verbose=1,\n",
    "                                validation_steps=val_data.samples//val_data.batch_size,\n",
    "                                epochs=y,callbacks=[learning_rate_reduction,es,checkpointer])\n",
    "\n",
    "        model.save(\"MobileNet\"+str(y)+\".hdf5\")\n",
    "        summarize_diagnostics(history_model,y)\n",
    "        loss=history_model.history['loss']\n",
    "        acc=history_model.history['acc']\n",
    "        valacc=history_model.history['val_acc']\n",
    "        valloss=history_model.history['val_loss']\n",
    "        location = [y,loss,acc,valacc, valloss]\n",
    "        final_location.append(location)\n",
    "        save1 = pd.DataFrame(final_location,columns=['epochs','loss','acc','valacc','valloss'])\n",
    "        save1.to_csv('MobileNet'+str(y)+'.csv')\n",
    "    except Exception as e: \n",
    "        print(e)\n",
    "        continue"
   ]
  },
  {
   "cell_type": "code",
   "execution_count": 18,
   "metadata": {},
   "outputs": [
    {
     "name": "stdout",
     "output_type": "stream",
     "text": [
      "Epoch 1/6\n",
      "2024/2024 [==============================] - 1840s 909ms/step - loss: 0.4144 - acc: 0.8809\n",
      "\n",
      "Epoch 00001: val_acc improved from -inf to 0.88086, saving model to BestWeights_epoch6.hdf5\n",
      "3706/3706 [==============================] - 12233s 3s/step - loss: 0.0491 - acc: 0.9817 - val_loss: 0.4144 - val_acc: 0.8809\n",
      "Epoch 2/6\n",
      "2024/2024 [==============================] - 1889s 934ms/step - loss: 0.4077 - acc: 0.8836\n",
      "\n",
      "Epoch 00002: val_acc improved from 0.88086 to 0.88360, saving model to BestWeights_epoch6.hdf5\n",
      "3706/3706 [==============================] - 12958s 3s/step - loss: 0.0434 - acc: 0.9838 - val_loss: 0.4077 - val_acc: 0.8836\n",
      "Epoch 3/6\n",
      "2024/2024 [==============================] - 1955s 966ms/step - loss: 0.3885 - acc: 0.8854\n",
      "\n",
      "Epoch 00003: val_acc improved from 0.88360 to 0.88539, saving model to BestWeights_epoch6.hdf5\n",
      "3706/3706 [==============================] - 13449s 4s/step - loss: 0.0385 - acc: 0.9856 - val_loss: 0.3885 - val_acc: 0.8854\n",
      "Epoch 4/6\n",
      "2024/2024 [==============================] - 1937s 957ms/step - loss: 0.5156 - acc: 0.8798\n",
      "\n",
      "Epoch 00004: val_acc did not improve from 0.88539\n",
      "3706/3706 [==============================] - 13762s 4s/step - loss: 0.0353 - acc: 0.9868 - val_loss: 0.5156 - val_acc: 0.8798\n",
      "Epoch 5/6\n",
      "2024/2024 [==============================] - 1955s 966ms/step - loss: 0.8031 - acc: 0.8309\n",
      "\n",
      "Epoch 00005: ReduceLROnPlateau reducing learning rate to 0.0005000000237487257.\n",
      "\n",
      "Epoch 00005: val_acc did not improve from 0.88539\n",
      "3706/3706 [==============================] - 12818s 3s/step - loss: 0.0329 - acc: 0.9877 - val_loss: 0.8031 - val_acc: 0.8309\n",
      "Epoch 6/6\n",
      "2024/2024 [==============================] - 2304s 1s/step - loss: 0.4439 - acc: 0.8927\n",
      "\n",
      "Epoch 00006: val_acc improved from 0.88539 to 0.89267, saving model to BestWeights_epoch6.hdf5\n",
      "3706/3706 [==============================] - 21122s 6s/step - loss: 0.0212 - acc: 0.9920 - val_loss: 0.4439 - val_acc: 0.8927\n"
     ]
    },
    {
     "data": {
      "image/png": "[encoded data removed]",
      "text/plain": [
       "<Figure size 432x288 with 2 Axes>"
      ]
     },
     "metadata": {
      "needs_background": "light"
     },
     "output_type": "display_data"
    },
    {
     "data": {
      "text/plain": [
       "<Figure size 432x288 with 0 Axes>"
      ]
     },
     "metadata": {},
     "output_type": "display_data"
    }
   ],
   "source": [
    "from tensorflow.keras.utils import multi_gpu_model\n",
    "#for y in [1,2,3,4,5,6,7,9,14]:\n",
    "for y in [6]:\n",
    "    try:\n",
    "        location=\"BestWeights_epoch\"+str(y)+ \".hdf5\"\n",
    "        checkpointer = ModelCheckpoint(location, monitor='val_acc', verbose=1, save_best_only=True, mode='max')\n",
    "        final_location=[]\n",
    "        location=[]\n",
    "        model= Sequential()\n",
    "        model.add(base_model)\n",
    "    # model.add(Conv2D(512, (3, 3), activation = 'relu'))\n",
    "\n",
    "        model.add(Conv2D(64, (3, 3), activation = 'relu'))\n",
    "        #model.add(BatchNormalization(axis=-1, momentum=0.1, epsilon=1e-04))\n",
    "        #model.add(MaxPooling2D(pool_size = (2, 2)))\n",
    "        model.add(Dropout(0.40))\n",
    "        model.add(Conv2D(64, (3, 3), activation = 'relu'))\n",
    "        #model.add(BatchNormalization(axis=-1, momentum=0.1, epsilon=1e-04))\n",
    "        model.add(MaxPooling2D(pool_size = (2, 2)))\n",
    "        model.add(Dropout(0.40))\n",
    "        model.add(Flatten())\n",
    "        model.add(Dense(512,activation='relu'))\n",
    "        model.add(Dropout(0.4))\n",
    "        model.add(Dense(1, activation='sigmoid'))\n",
    "        #model.load_weights(\"../../ResNet50 Weights/ResNet50final11.hdf5\")\n",
    "\n",
    "    # model.add(Conv2D(512, (3, 3), activation = 'relu'))\n",
    "\n",
    "\n",
    "\n",
    "        #parallel_model = multi_gpu_model(model, gpus=2)\n",
    "        model.compile(loss='binary_crossentropy',\n",
    "                               optimizer=Adam(lr=0.001),metrics=[\"accuracy\"])\n",
    "    #model.compile(optimizer=Adam(lr=0.001),loss=\"binary_crossentropy\",metrics=[\"accuracy\"])\n",
    "        history_model=model.fit_generator(generator=train_data,\n",
    "                                steps_per_epoch=train_data.samples//train_data.batch_size,\n",
    "                                validation_data=val_data,\n",
    "                                verbose=1,\n",
    "                                validation_steps=val_data.samples//val_data.batch_size,\n",
    "                                epochs=y,callbacks=[learning_rate_reduction,es,checkpointer])\n",
    "\n",
    "        model.save(\"MobileNet\"+str(y)+\".hdf5\")\n",
    "        summarize_diagnostics(history_model,y)\n",
    "        loss=history_model.history['loss']\n",
    "        acc=history_model.history['acc']\n",
    "        valacc=history_model.history['val_acc']\n",
    "        valloss=history_model.history['val_loss']\n",
    "        location = [y,loss,acc,valacc, valloss]\n",
    "        final_location.append(location)\n",
    "        save1 = pd.DataFrame(final_location,columns=['epochs','loss','acc','valacc','valloss'])\n",
    "        save1.to_csv('MobileNet'+str(y)+'.csv')\n",
    "    except Exception as e: \n",
    "        print(e)\n",
    "        continue"
   ]
  },
  {
   "cell_type": "code",
   "execution_count": null,
   "metadata": {},
   "outputs": [],
   "source": []
  }
 ],
 "metadata": {
  "accelerator": "GPU",
  "colab": {
   "collapsed_sections": [],
   "name": "InceptionV3Own1Arch2.ipynb",
   "provenance": [],
   "version": "0.3.2"
  },
  "kernelspec": {
   "display_name": "Python 3",
   "language": "python",
   "name": "python3"
  },
  "language_info": {
   "codemirror_mode": {
    "name": "ipython",
    "version": 3
   },
   "file_extension": ".py",
   "mimetype": "text/x-python",
   "name": "python",
   "nbconvert_exporter": "python",
   "pygments_lexer": "ipython3",
   "version": "3.5.2"
  }
 },
 "nbformat": 4,
 "nbformat_minor": 1
}
