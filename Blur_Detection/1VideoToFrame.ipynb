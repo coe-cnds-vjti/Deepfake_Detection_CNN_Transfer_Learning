{
 "cells": [
  {
   "cell_type": "code",
   "execution_count": 1,
   "metadata": {},
   "outputs": [
    {
     "name": "stdout",
     "output_type": "stream",
     "text": [
      "Read Successfully\n"
     ]
    }
   ],
   "source": [
    "import cv2\n",
    "import os\n",
    "name=\"../../Deepfakes/Classifier_Elvin/Latest/\"\n",
    "vc = cv2.VideoCapture(\"000fake.mp4\")  \n",
    "c = 1\n",
    "\n",
    "if vc.isOpened(): \n",
    "    rval, frame = vc.read()\n",
    "    print(\"Read Successfully\")\n",
    "\n",
    "else:\n",
    "    rval = False\n",
    "\n",
    "\n",
    "count = 0\n",
    "name_no = 0\n",
    "while rval: \n",
    "    rval, frame = vc.read()\n",
    "    count += 1\n",
    "    if count >= 0 & count < 500:\n",
    "        name_no += 1\n",
    "        # frame = frame[100:380, :]\n",
    "        #frame = frame[100:350, :]\n",
    "        cv2.imwrite(\"000fakeframes/{:04d}\".format(name_no) + '.jpg', frame) \n",
    "vc.release()"
   ]
  },
  {
   "cell_type": "code",
   "execution_count": null,
   "metadata": {},
   "outputs": [],
   "source": [
    "import os\n",
    "name=os.listdir(\"../../Deepfakes/Classifier_Elvin/Latest/merged_amir_jack(1).avi\")\n",
    "import pandas as pd\n",
    "print(name)"
   ]
  }
 ],
 "metadata": {
  "kernelspec": {
   "display_name": "Python 3",
   "language": "python",
   "name": "python3"
  },
  "language_info": {
   "codemirror_mode": {
    "name": "ipython",
    "version": 3
   },
   "file_extension": ".py",
   "mimetype": "text/x-python",
   "name": "python",
   "nbconvert_exporter": "python",
   "pygments_lexer": "ipython3",
   "version": "3.5.2"
  }
 },
 "nbformat": 4,
 "nbformat_minor": 2
}
