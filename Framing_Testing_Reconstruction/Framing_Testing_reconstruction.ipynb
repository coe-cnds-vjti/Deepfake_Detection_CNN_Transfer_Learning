{
 "cells": [
  {
   "cell_type": "code",
   "execution_count": 1,
   "metadata": {
    "colab": {
     "base_uri": "https://localhost:8080/",
     "height": 35
    },
    "colab_type": "code",
    "executionInfo": {
     "elapsed": 5056,
     "status": "ok",
     "timestamp": 1561919672504,
     "user": {
      "displayName": "new guy",
      "photoUrl": "",
      "userId": "03120160726989926836"
     },
     "user_tz": -330
    },
    "id": "tk28xpFxnAqa",
    "outputId": "526d266c-5750-42ff-af3b-67bb20b4596c"
   },
   "outputs": [],
   "source": [
    "from tensorflow.keras.backend import set_session\n",
    "import tensorflow as tf\n",
    "config = tf.ConfigProto()\n",
    "config.gpu_options.allow_growth = True  # dynamically grow the memory used on the GPU\n",
    "config.log_device_placement = True  # to log device placement (on which device the operation ran)sess = tf.Session(config=config)set_session(sess)\n",
    "sess = tf.Session(config=config)\n",
    "set_session(sess) "
   ]
  },
  {
   "cell_type": "code",
   "execution_count": 2,
   "metadata": {},
   "outputs": [],
   "source": [
    "\n",
    "\n",
    "# import pandas as pd\n",
    "# import numpy as np\n",
    "# from tensorflow.keras.models import Sequential\n",
    "# from tensorflow.keras.layers import Dense, Conv2D, Dropout, Flatten, MaxPooling2D\n",
    "# from tensorflow.keras.applications import InceptionV3\n",
    "# #from tensorflow.keras import optimizers\n",
    "# from tensorflow.keras.optimizers import Adam as Adam"
   ]
  },
  {
   "cell_type": "code",
   "execution_count": 3,
   "metadata": {
    "colab": {
     "base_uri": "https://localhost:8080/",
     "height": 547
    },
    "colab_type": "code",
    "executionInfo": {
     "elapsed": 7681,
     "status": "error",
     "timestamp": 1561919675705,
     "user": {
      "displayName": "new guy",
      "photoUrl": "",
      "userId": "03120160726989926836"
     },
     "user_tz": -330
    },
    "id": "2oj9WnXOlt_C",
    "outputId": "36f3e405-6019-4ddb-a106-d898a5284ec3"
   },
   "outputs": [],
   "source": [
    "# base_model= InceptionV3(include_top=False, weights=None, input_shape=(224,224,3))"
   ]
  },
  {
   "cell_type": "code",
   "execution_count": 6,
   "metadata": {},
   "outputs": [
    {
     "name": "stdout",
     "output_type": "stream",
     "text": [
      "Collecting dlib\n",
      "\u001b[?25l  Downloading https://files.pythonhosted.org/packages/63/92/05c3b98636661cb80d190a5a777dd94effcc14c0f6893222e5ca81e74fbc/dlib-19.19.0.tar.gz (3.2MB)\n",
      "\u001b[K     |████████████████████████████████| 3.2MB 10.9MB/s eta 0:00:01\n",
      "\u001b[?25hBuilding wheels for collected packages: dlib\n",
      "  Building wheel for dlib (setup.py) ... \u001b[?25ldone\n",
      "\u001b[?25h  Stored in directory: /root/.cache/pip/wheels/96/ac/11/8aadec62cb4fb5b264a9b1b042caf415de9a75f5e165d79a51\n",
      "Successfully built dlib\n",
      "Installing collected packages: dlib\n",
      "Successfully installed dlib-19.19.0\n",
      "\u001b[33mWARNING: You are using pip version 19.1.1, however version 20.0.2 is available.\n",
      "You should consider upgrading via the 'pip install --upgrade pip' command.\u001b[0m\n"
     ]
    }
   ],
   "source": [
    "!pip install dlib"
   ]
  },
  {
   "cell_type": "code",
   "execution_count": 7,
   "metadata": {},
   "outputs": [],
   "source": [
    "video_count=4\n",
    "import cv2\n",
    "import os \n",
    "import dlib\n",
    "import numpy as np\n",
    "p = \"../mmod_human_face_detector.dat\"\n",
    "cnn_face_detector = dlib.cnn_face_detection_model_v1(p)\n",
    "\n",
    "\n"
   ]
  },
  {
   "cell_type": "code",
   "execution_count": 10,
   "metadata": {},
   "outputs": [
    {
     "name": "stdout",
     "output_type": "stream",
     "text": [
      "ManojDF.mp4\n"
     ]
    }
   ],
   "source": [
    "path= \"../Testing_Code/manoj_tiwary\"\n",
    "t=os.listdir(path)\n",
    "#t=t[6:]\n",
    "print(t[0])\n"
   ]
  },
  {
   "cell_type": "code",
   "execution_count": 11,
   "metadata": {},
   "outputs": [
    {
     "name": "stdout",
     "output_type": "stream",
     "text": [
      "NOW FRAMING\n",
      "Read a new frame:  False\n",
      "1\n",
      "['0000.jpg']\n",
      "NOW DETECTING\n",
      "Could not read input image\n",
      "NOW RECONSTRUCTING\n",
      "name 'size' is not defined\n",
      "[Errno 17] File exists: '../Test_bezos/fake_video4'\n"
     ]
    }
   ],
   "source": [
    "for i in t:\n",
    "        #print(type(i))\n",
    "    try:\n",
    "        ##framing starts here.save the frames\n",
    "        vidcap = cv2.VideoCapture(path+i)\n",
    "        success,image = vidcap.read()\n",
    "        count = 0\n",
    "        success = True\n",
    "        os.mkdir('../Test_bezos/fake_video'+str(video_count))\n",
    "        frames_path=\"../Test_bezos/fake_video\"+str(video_count)+'/frames/'\n",
    "        os.mkdir(frames_path)\n",
    "        print(\"NOW FRAMING\")\n",
    "        while success:\n",
    "            cv2.imwrite(frames_path+'{:04d}.jpg'.format(count), image)     # save frame as JPEG file\n",
    "            success,image = vidcap.read()\n",
    "            print ('Read a new frame: ', success)\n",
    "            count += 1\n",
    "            print(count)\n",
    "        name=os.listdir(frames_path)\n",
    "        name.sort()\n",
    "        print(name)\n",
    "        k=0\n",
    "        prediction_folder_path=\"../Test_bezos/fake_video\"+str(video_count)+'/predictions/'\n",
    "        os.mkdir(prediction_folder_path)  \n",
    "        real_count=0\n",
    "        fake_count=0\n",
    "        print(\"NOW DETECTING\")\n",
    "        m=0\n",
    "        #Perform face detection\n",
    "        for t in name:\n",
    "            #try:\n",
    "            image=cv2.imread(frames_path+t)\n",
    "            if image is None:\n",
    "                print(\"Could not read input image\")\n",
    "                continue\n",
    "\n",
    "            faces_cnn = cnn_face_detector(image, 1)\n",
    "            if(len(faces_cnn)==0):\n",
    "                print(m)\n",
    "                continue\n",
    "            else:\n",
    "                for face in faces_cnn:\n",
    "\n",
    "                    x = face.rect.left()\n",
    "                    y = face.rect.top()\n",
    "                    w= face.rect.right() - x\n",
    "                    h= face.rect.bottom() - y\n",
    "                    break\n",
    "                y1 =y-50\n",
    "                y2= y+h+30\n",
    "                x1=x-15\n",
    "                x2=x+w+50\n",
    "\n",
    "                image1=image[y1:y2, x1:x2]\n",
    "                #print(image1)\n",
    "                #plt1.imshow(image1)\n",
    "                image1 = cv2.resize(image1,(299,299))\n",
    "                test_image=image1\n",
    "                test_image=test_image*(1./255)\n",
    "                test_image = np.expand_dims(test_image, axis = 0)\n",
    "                #Testing \n",
    "                result = model.predict(test_image)\n",
    "                print(result)\n",
    "                #printing Fake or real on eac frame\n",
    "                if(result[0][0]>=0.4):\n",
    "                    print(\"hi1\")\n",
    "                    cv2.rectangle(image, (x1,y1), (x2,y2), (0,255,0), 2)\n",
    "                    cv2.putText(image, 'REAL:'+str(result), (100, 100), cv2.FONT_HERSHEY_SIMPLEX, 1.0, (0,255, 0), lineType=cv2.LINE_AA) \n",
    "                    real_count+=1\n",
    "                    cv2.putText(image, 'REAL:'+str(real_count), (100, 500), cv2.FONT_HERSHEY_SIMPLEX, 1.0, (0,255, 0), lineType=cv2.LINE_AA) \n",
    "                    cv2.putText(image, 'FAKE:'+str(fake_count), (100, 550), cv2.FONT_HERSHEY_SIMPLEX, 1.0, (0,0,255), lineType=cv2.LINE_AA) \n",
    "                    cv2.imwrite(prediction_folder_path+t,image)\n",
    "                else:\n",
    "                    print(\"hi2\")\n",
    "                    cv2.rectangle(image, (x1,y1), (x2,y2), (0,0,255), 2)\n",
    "                    cv2.putText(image, 'FAKE:'+str(1-result), (100, 100), cv2.FONT_HERSHEY_SIMPLEX, 1.0, (0,0 ,255),lineType=cv2.LINE_AA)\n",
    "                    fake_count+=1\n",
    "                    cv2.putText(image, 'REAL:'+str(real_count), (100, 500), cv2.FONT_HERSHEY_SIMPLEX, 1.0, (0,255, 0), lineType=cv2.LINE_AA)\n",
    "                    cv2.putText(image, 'FAKE:'+str(fake_count), (100, 550), cv2.FONT_HERSHEY_SIMPLEX, 1.0, (0,0,255), lineType=cv2.LINE_AA) \n",
    "                    cv2.imwrite(prediction_folder_path+t,image)\n",
    "            k+=1\n",
    "            print(k)\n",
    "            #except:\n",
    "             #   continue\n",
    "        #Video Reconstruction\n",
    "        img_array = []\n",
    "        l=os.listdir(prediction_folder_path)\n",
    "        l.sort()\n",
    "        for filename in l:\n",
    "            try:    \n",
    "\n",
    "                img = cv2.imread(prediction_folder_path+filename)\n",
    "                height, width, layers = img.shape\n",
    "                height, width, layers = img.shape\n",
    "                size = (width,height)\n",
    "                img_array.append(img)\n",
    "            except:\n",
    "                continue\n",
    "        print(\"NOW RECONSTRUCTING\")\n",
    "        save_path='../Test_bezos/fake_video'+str(video_count)+'/'\n",
    "        out = cv2.VideoWriter(save_path+'fake_video'+str(video_count)+'.avi',cv2.VideoWriter_fourcc(*'DIVX'), 24, size)\n",
    "\n",
    "        for i in range(len(img_array)):\n",
    "            out.write(img_array[i])\n",
    "        out.release()\n",
    "        print(\"VIDEO COMPLETED:\"+str(video_count))\n",
    "        video_count+=1\n",
    "    except Exception as e:\n",
    "        print(e)\n",
    "        continue\n",
    "\n"
   ]
  }
 ],
 "metadata": {
  "accelerator": "GPU",
  "colab": {
   "collapsed_sections": [],
   "name": "InceptionV3Own1Arch2.ipynb",
   "provenance": [],
   "version": "0.3.2"
  },
  "kernelspec": {
   "display_name": "Python 3",
   "language": "python",
   "name": "python3"
  },
  "language_info": {
   "codemirror_mode": {
    "name": "ipython",
    "version": 3
   },
   "file_extension": ".py",
   "mimetype": "text/x-python",
   "name": "python",
   "nbconvert_exporter": "python",
   "pygments_lexer": "ipython3",
   "version": "3.5.2"
  }
 },
 "nbformat": 4,
 "nbformat_minor": 1
}
